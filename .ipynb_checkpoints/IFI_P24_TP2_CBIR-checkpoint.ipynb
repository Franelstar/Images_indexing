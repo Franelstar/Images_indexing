{
 "cells": [
  {
   "cell_type": "markdown",
   "metadata": {},
   "source": [
    "# **TP2 CBIR Indexation**"
   ]
  },
  {
   "cell_type": "markdown",
   "metadata": {},
   "source": [
    "# Membre du groupe :\n",
    "\n",
    "1. MBIAYA KWUITE Franck Anael\n",
    "2. NGUYEN Truong Thinh\n",
    "3. VUMISA Cedric"
   ]
  },
  {
   "cell_type": "markdown",
   "metadata": {},
   "source": [
    "# Objectif\n",
    "\n",
    "Notre objectif dans le cadre de ce TP est de continuer le travail effectué sur le TP1. Nous allons utiliser et comparer l'efficacité de trois méthodes d'indexation différentes:\n",
    "\n",
    "- une méthode d’indexation basée sur les arbres (KD-Tree)\n",
    "- une méthode de clustering (K-Means)\n",
    "- une méthode de hachage (LSH)\n",
    "\n",
    "Notre travail sera dividé en 4 parties principales :\n",
    "\n",
    "1. **Définition des fonctions** : Cette partie comporte toutes les fonctions que nous utiliserons dans notre système\n",
    "2. **Pré-calcul des caractéristiques des images du dataset** :  Cette partie permet de pré-calculer les caractériqtiques des images du dataset et de les enrégistrer dans un fichier\n",
    "3. **Recherche des meilleurs paramètres** : Cette partie permet d'évaluer le système avec différents paramètres dans aucune méthode d'indexation\n",
    "4. **Evaluation des différentes méthodes d'indexation** : Cette partie permettra d'évaluer les différentes méthodes d'indextion en terme de performance et de temps de calcul\n",
    "5. **Interprétation des résultats obtenus** : Nous allons interpréter ici les résultats obtenus dans la partie précedente"
   ]
  },
  {
   "cell_type": "markdown",
   "metadata": {},
   "source": [
    "### Importation des librairies necessaires"
   ]
  },
  {
   "cell_type": "markdown",
   "metadata": {},
   "source": [
    "Nous avons utilisé les dépendances suivantes :\n",
    "\n",
    "- OpenCV 4.4.0\n",
    "- numpy 1.19.5\n",
    "- matplotlib 3.2.2\n",
    "- seaborn 0.11.0\n",
    "- scipy 1.4.1\n",
    "- pandas 1.0.5\n",
    "- sklearn 0.23.1\n",
    "- sparselsh 2.0.2"
   ]
  },
  {
   "cell_type": "code",
   "execution_count": 1,
   "metadata": {},
   "outputs": [],
   "source": [
    "import cv2 as cv\n",
    "import numpy as np\n",
    "import matplotlib.pyplot as plt # Pour afficher les images\n",
    "import seaborn as sns # Pour afficher les images\n",
    "import os # Pour interargir avec le système d'exploitation\n",
    "from tqdm import tqdm # Pour la progression des traitements\n",
    "from scipy.spatial import distance\n",
    "from IPython.display import Markdown, display # Pour la mise en forme de l'affichage\n",
    "import pandas as pd\n",
    "from sklearn.neighbors import KDTree # Pour créer et manipuler les arbres KD\n",
    "import pickle # Pour sauvegarder et charger des données\n",
    "import timeit # Pour évaluer la durée (temps de calcul) pour la recherche\n",
    "from sklearn.cluster import KMeans # Pour le clustering\n",
    "from sparselsh import LSH # Pour le hachage\n",
    "from scipy.sparse import csr_matrix # Pour le hachage"
   ]
  },
  {
   "cell_type": "markdown",
   "metadata": {},
   "source": [
    "### Définition des paramètres généraux"
   ]
  },
  {
   "cell_type": "code",
   "execution_count": 2,
   "metadata": {},
   "outputs": [],
   "source": [
    "HIST_SIZE = 32 # Nombre de bins (nombre de valeur des histogrammes)\n",
    "HIST_RANGE = (0, 256) # Plage des valeurs des pixels pour les différents channels\n",
    "PATH_IMAGE = 'coil-100/' # Dossier contenant les images\n",
    "K = 15 # Nombre de résultats de la recherhe\n",
    "data_evaluation = ['obj{}__0.png'.format(str(i)) for i in range(1, 101)] # Images qui vont servir pour l'évaluation des méthodes d'indexation\n",
    "nbre_imagepar_classe = 72 # Le nombre d'images contenu dans chaque classe"
   ]
  },
  {
   "cell_type": "markdown",
   "metadata": {},
   "source": [
    "# I. Définition des fonctions\n",
    "\n",
    "Cette partie comporte toutes les fonctions utilisées dans notre système"
   ]
  },
  {
   "cell_type": "markdown",
   "metadata": {},
   "source": [
    "## 1. Fonction de calcul des histogrammes couleur\n",
    "\n",
    "Cette fonction permet de calculer les histogrammes couleur d'un tableau d'images. En fonction des paramètres données, l'histogramme couleur peut être calculé dans l'espace de couleur RGB, Lab ou TSV\n",
    "\n",
    "**Input :**\n",
    "- *images* : Tableau contenant les images dont on veux calculer les histogrammes\n",
    "- *histSize* : Nombre de bins (nombre de valeur des pixels). Par défaut 32\n",
    "- *histRange* : Plage des valeurs des pixels pour les différents channels. Par défaut (0, 256)\n",
    "- *espaceCouleur* : Espace de coouleur à considérer. Par défaut RGB\n",
    "\n",
    "**Output :** tableau numpy contenant tous les histogrammes des images passées en paramètre\n",
    "\n",
    "**Algorithme :**\n",
    "\n",
    "On parcourt toutes les images et pour chacune d'elle :\n",
    "\n",
    "- On sépare les channels en fonction de l'espace de couleur\n",
    "- Pour chaque channel, on calcule l'histogramme et on réduit le nombre de valeur à 32\n",
    "- On normalise les histogrammes obtenus\n",
    "- On joint les histogrammes en un seul"
   ]
  },
  {
   "cell_type": "code",
   "execution_count": 3,
   "metadata": {},
   "outputs": [],
   "source": [
    "def calcul_histogramme(images, histSize=32, histRange=(0, 256), espaceCouleur='RGB'):\n",
    "    histogrammes = [] # Tableau contenant l'histogramme de toutes les images\n",
    "    \n",
    "    for image in images:\n",
    "        \n",
    "        # Si l'espace de couleur est RGB\n",
    "        if espaceCouleur == 'RGB':\n",
    "            # On sépare les différents channels\n",
    "            RGB_channel = cv.split(image)\n",
    "        \n",
    "            # On calcule les histrogrammes des différents channels et on change les valeurs en float32\n",
    "            # On réduit également le nombre de valeurs de chaque histogramme de 256 à 32\n",
    "            # Les trois histogrammes aurons alors 32 valeurs\n",
    "            R_hist = cv.calcHist(RGB_channel, [0], None, [histSize], histRange, accumulate=False).astype('float32')\n",
    "            G_hist = cv.calcHist(RGB_channel, [1], None, [histSize], histRange, accumulate=False).astype('float32')\n",
    "            B_hist = cv.calcHist(RGB_channel, [2], None, [histSize], histRange, accumulate=False).astype('float32')\n",
    "\n",
    "            # On normalise chaque histogramme en divisant par le nombre de pixels de l'image\n",
    "            # La somme des valeurs de chaque histogramme est alors égale à 1\n",
    "            R_hist = R_hist/sum(R_hist)\n",
    "            G_hist = G_hist/sum(G_hist)\n",
    "            B_hist = B_hist/sum(B_hist)\n",
    "\n",
    "            # On joint les 3 histogrammes précédemment calculés en un seul afin d'obtenir l'histogramme de l'image\n",
    "            # Cet histogramme aura alors 32 x 3 valeurs au total\n",
    "            histogram_image = np.concatenate((R_hist, G_hist, B_hist), axis=None)\n",
    "\n",
    "            # On ajoute dans le tableau des histogrammes de toutes les images\n",
    "            # Le i-ème histogramme du tableau histogramme correspondra à la i-ème image du tableau images\n",
    "            histogrammes.append(histogram_image)\n",
    "            \n",
    "        # Si l'espace de couleur est La*b*\n",
    "        elif espaceCouleur == 'Lab':\n",
    "            # On converti l'image dans l'espace de coouleur La*b*\n",
    "            image_lab = cv.cvtColor(image, cv.COLOR_RGB2Lab)\n",
    "            \n",
    "            # On sépare les différents channels\n",
    "            Lab_channel = cv.split(image_lab)\n",
    "            \n",
    "            # On calcule les histrogrammes des différents channels a et b et on change les valeurs en float32\n",
    "            # On réduit également le nombre de valeurs des histogrammes de 256 à 32\n",
    "            # Les deux histogrammes aurons alors 32 valeurs\n",
    "            a_hist = cv.calcHist(Lab_channel, [1], None, [histSize], histRange, accumulate=False).astype('float32')\n",
    "            b_hist = cv.calcHist(Lab_channel, [2], None, [histSize], histRange, accumulate=False).astype('float32')\n",
    "\n",
    "            # On normalise chaque histogramme en divisant par le nombre de pixels de l'image\n",
    "            # La somme des valeurs de chaque histogramme est alors égale à 1\n",
    "            a_hist = a_hist/sum(a_hist)\n",
    "            b_hist = b_hist/sum(b_hist)\n",
    "\n",
    "            # On joint les 2 histogrammes précédemment calculés en un seul afin d'obtenir l'histogramme de l'image\n",
    "            # Cet histogramme aura alors 32 x 2 valeurs au total\n",
    "            histogram_image = np.concatenate((a_hist, b_hist), axis=None)\n",
    "\n",
    "            # On ajoute dans le tableau des histogrammes de toutes les images\n",
    "            # Le i-ème histogramme du tableau histogramme correspondra à la i-ème image du tableau images\n",
    "            histogrammes.append(histogram_image)\n",
    "            \n",
    "        # Si l'espace de couleur est TSV\n",
    "        elif espaceCouleur == 'TSV':\n",
    "            # On converti l'image dans l'espace de coouleur TSV\n",
    "            image_tsv = cv.cvtColor(image, cv.COLOR_RGB2HSV)\n",
    "            \n",
    "            # On sépare les différents channels\n",
    "            TSV_channel = cv.split(image_tsv)\n",
    "            \n",
    "            # On calcule les histrogrammes des différents channels T et S. on change les valeurs en float32\n",
    "            # On réduit également le nombre de valeurs des histogrammes de 256 à 32\n",
    "            # Les deux histogrammes aurons alors 32 valeurs\n",
    "            T_hist = cv.calcHist(TSV_channel, [1], None, [histSize], histRange, accumulate=False).astype('float32')\n",
    "            S_hist = cv.calcHist(TSV_channel, [2], None, [histSize], histRange, accumulate=False).astype('float32')\n",
    "\n",
    "            # On normalise chaque histogramme en divisant par le nombre de pixels de l'image\n",
    "            # La somme des valeurs de chaque histogramme est alors égale à 1\n",
    "            T_hist = T_hist/sum(T_hist)\n",
    "            S_hist = S_hist/sum(S_hist)\n",
    "\n",
    "            # On joint les 2 histogrammes précédemment calculés en un seul afin d'obtenir l'histogramme de l'image\n",
    "            # Cet histogramme aura alors 32 x 2 valeurs au total\n",
    "            histogram_image = np.concatenate((T_hist, S_hist), axis=None)\n",
    "\n",
    "            # On ajoute dans le tableau des histogrammes de toutes les images\n",
    "            # Le i-ème histogramme du tableau histogramme correspondra à la i-ème image du tableau images\n",
    "            histogrammes.append(histogram_image)\n",
    "    \n",
    "    return np.array(histogrammes)"
   ]
  },
  {
   "cell_type": "markdown",
   "metadata": {},
   "source": [
    "## 2. Fonction de calcul des moments de Hu (descripteur de forme)\n",
    "\n",
    "Cette fonction permet de calculer les moments de Hu des images passées en paramètres\n",
    "\n",
    "**Input :**\n",
    "- *images* : Tableau contenant les images dont on veux calculer les histogrammes\n",
    "\n",
    "**Output :** tableau numpy contenant tous les moment de Hu des images passées en paramètre\n",
    "\n",
    "**Algorithme :**\n",
    "\n",
    "On parcourt toutes les images et pour chacune d'elle :\n",
    "\n",
    "- on converti en niveau de gris\n",
    "- on calcule les moments de Hu d'origine associés à l'image\n",
    "- on calcule les 7 caractéristiques de Hu\n",
    "- on effectue une transformation d'échelle logarithmique pour faciliter les calculs ultérieurs"
   ]
  },
  {
   "cell_type": "code",
   "execution_count": 4,
   "metadata": {},
   "outputs": [],
   "source": [
    "def calcul_hu_moments(images):\n",
    "    hu_moments = [] # Tableau contenant les moments de hu de toutes les images\n",
    "\n",
    "    for image in images:\n",
    "        # On converti l'image en niveau de gris\n",
    "        image_gray = cv.cvtColor(image, cv.COLOR_RGB2GRAY)\n",
    "\n",
    "        # On calcule les 24 moments d'origine associés à l'image\n",
    "        origin = cv.moments(image_gray)\n",
    "\n",
    "        # On calcul les moments invariants de Hu\n",
    "        hu_moment = cv.HuMoments(origin)\n",
    "\n",
    "        # On aplati notre tableau pour former un vecteur de caractéristiques\n",
    "        hu_moment = hu_moment.flatten()\n",
    "\n",
    "        # On effectue une transformation d'échelle logarithmique\n",
    "        for i in range(0,7):\n",
    "            hu_moment[i] = - np.sign(hu_moment[i]) * np.log10(np.abs(hu_moment[i]))\n",
    "\n",
    "        # On sauvegarde les valeurs obtenues\n",
    "        hu_moments.append(hu_moment)\n",
    "\n",
    "    return np.array(hu_moments)"
   ]
  },
  {
   "cell_type": "markdown",
   "metadata": {},
   "source": [
    "## 3. Fonctions de Recherche\n",
    "\n",
    "Ces fonctions permettent de faire la recherche par le contenu en fonction d'une image d'entrée. La recherche se fait en utilisant la distance selon la formule suivante : **Distance = ω1 ∗ dist(couleur) + ω2 ∗ dist(forme)**.\n",
    "\n",
    "Nous avons implémenté 4 fonction de recherche en fonction du type d'indexation :\n",
    "1. Recherche sans indexation\n",
    "2. Recherche avec méthode d'indexation basé sur l'arbre KD-Tree\n",
    "3. Recherche avec méthode d'indexation basé sur KMeans\n",
    "4. Recherche avec méthode d'indexation basée sur LSH\n"
   ]
  },
  {
   "cell_type": "markdown",
   "metadata": {},
   "source": [
    "### 3.1. Recherche sans méthode d'indexation\n",
    "\n",
    "On calcule la distance entre l'image d'entrée et toutes les images de la base\n",
    "\n",
    "**Input :**\n",
    "- *image_name* : Nom de l'image d'entrée\n",
    "- *caracteristiquesImages* : ls caractéristiques (couleur, forme) des images dans le système\n",
    "- *histSize* : nombre de bins (nombre de valeur des pixels)\n",
    "- *histRange* : plage des valeurs des pixels pour les différents channels\n",
    "- *espaceCouleur* : l'espace de couleur considéré\n",
    "- *w1* : le poids associé à la couleur\n",
    "- *w2* : le poids associé à la forme\n",
    "\n",
    "**Output :** tableau contenant les noms et distances des K images les plus proches\n",
    "\n",
    "**Algorithme :**\n",
    "\n",
    "- on charge l'image d'entrée\n",
    "- on calcule les caractéristiques de l'image d'entrée (Histogramme couleur et moments de Hu)\n",
    "- on recherche les K images les plus proches"
   ]
  },
  {
   "cell_type": "code",
   "execution_count": 5,
   "metadata": {},
   "outputs": [],
   "source": [
    "def recherche(image_name, caracteristiquesImages, histSize, histRange, espaceCouleur, w1, w2):\n",
    "    # On charge l'image d'entrée\n",
    "    image = cv.imread(PATH_IMAGE+image_name)\n",
    "    image = cv.cvtColor(image, cv.COLOR_BGR2RGB)\n",
    "\n",
    "    # Calculs de l'histogramme couleur\n",
    "    histogram_entree = calcul_histogramme([image], histSize=histSize, histRange=histRange, espaceCouleur=espaceCouleur)[0]\n",
    "    \n",
    "    # Calcul des moments de Hu\n",
    "    hu_moment_entree = calcul_hu_moments([image])[0]\n",
    "\n",
    "    # Tableau contenant les distances dans l'ordre des images de la base de données\n",
    "    distance_result = []\n",
    "\n",
    "    # Calcul des distances par rapport à chaque image de la base\n",
    "    for i in range(len(caracteristiquesImages)):\n",
    "        if espaceCouleur == 'RGB':\n",
    "            d_chi_square = cv.compareHist(histogram_entree, caracteristiquesImages[i][1][0], 1)\n",
    "        elif espaceCouleur == 'Lab':\n",
    "            d_chi_square = cv.compareHist(histogram_entree, caracteristiquesImages[i][1][1], 1)\n",
    "        elif espaceCouleur == 'TSV':\n",
    "            d_chi_square = cv.compareHist(histogram_entree, caracteristiquesImages[i][1][2], 1)\n",
    "        d_euclidian = distance.euclidean(hu_moment_entree, caracteristiquesImages[i][2])\n",
    "        d_total = d_chi_square * w1 + d_euclidian * w2\n",
    "        dist = [i, d_total]\n",
    "        distance_result.append(dist)\n",
    "        \n",
    "    # Trie du tableau\n",
    "    distance_result = sorted(distance_result, key=lambda x: x[1])\n",
    "    \n",
    "    # On retourne les K premiers résultat\n",
    "    return distance_result[0:K]"
   ]
  },
  {
   "cell_type": "markdown",
   "metadata": {},
   "source": [
    "### 3.2. Recherche avec une méthode d'indexation basé sur l'arbre KD-Tree\n",
    "\n",
    "On calcule la distance entre l'image d'entrée et les 100 images les plus proches dans l'arbre KD-Tree\n",
    "\n",
    "**Input :**\n",
    "- *image_name* : Nom de l'image d'entrée\n",
    "- *caracteristiquesImages* : ls caractéristiques (couleur, forme) des images dans le système\n",
    "- *histSize* : nombre de bins (nombre de valeur des pixels)\n",
    "- *histRange* : plage des valeurs des pixels pour les différents channels\n",
    "- *espaceCouleur* : l'espace de couleur considéré\n",
    "- *w1* : le poids associé à la couleur\n",
    "- *w2* : le poids associé à la forme\n",
    "- *kd_tree* : l'arbre KD-Treecontenant toutes les images de la base\n",
    "\n",
    "**Output :** tableau contenant les noms et distances des K images les plus proches\n",
    "\n",
    "**Algorithme :**\n",
    "\n",
    "- on charge l'image d'entrée\n",
    "- on calcule les caractéristiques de l'image d'entrée (Histogramme couleur et moments de Hu)\n",
    "- on recherche dans l'arbre KD-Tree les 100 images les plus proche\n",
    "- on calcule les distances des 100 images retournées par l'arbre KD-Tree\n",
    "- on recherche les K images les plus proches"
   ]
  },
  {
   "cell_type": "code",
   "execution_count": 6,
   "metadata": {},
   "outputs": [],
   "source": [
    "def recherche_arbre(image_name, caracteristiquesImages, histSize, histRange, espaceCouleur, w1, w2, kd_tree):\n",
    "    # On charge l'image d'entrée\n",
    "    image = cv.imread(PATH_IMAGE+image_name)\n",
    "    image = cv.cvtColor(image, cv.COLOR_BGR2RGB)\n",
    "\n",
    "    # Calculs de l'histogramme couleur\n",
    "    histogram_entree = calcul_histogramme([image], histSize=histSize, histRange=histRange, espaceCouleur=espaceCouleur)[0]\n",
    "    \n",
    "    # Calcul des moments de Hu\n",
    "    hu_moment_entree = calcul_hu_moments([image])[0]\n",
    "    \n",
    "    # On Recherche les 100 caractéristiques les plus proches\n",
    "    caracteristique_entree = np.array([np.concatenate((histogram_entree, hu_moment_entree), axis=None)])\n",
    "    distances, indices = kd_tree.query(caracteristique_entree, k=100)\n",
    "\n",
    "    # Tableau contenant les distances des images ayant les caractéristiques les plus proches\n",
    "    distance_result = []\n",
    "\n",
    "    # Calcul des distances par rapport à chacune des 100 images retournées par l'arbre KD-Tree\n",
    "    for i in indices[0]:\n",
    "        if espaceCouleur == 'RGB':\n",
    "            d_chi_square = cv.compareHist(histogram_entree, caracteristiquesImages[i][1][0], 1)\n",
    "        elif espaceCouleur == 'Lab':\n",
    "            d_chi_square = cv.compareHist(histogram_entree, caracteristiquesImages[i][1][1], 1)\n",
    "        elif espaceCouleur == 'TSV':\n",
    "            d_chi_square = cv.compareHist(histogram_entree, caracteristiquesImages[i][1][2], 1)\n",
    "        d_euclidian = distance.euclidean(hu_moment_entree, caracteristiquesImages[i][2])\n",
    "        d_total = d_chi_square * w1 + d_euclidian * w2\n",
    "        dist = [i, d_total]\n",
    "        distance_result.append(dist)\n",
    "        \n",
    "    # Trie du tableau\n",
    "    distance_result = sorted(distance_result, key=lambda x: x[1])\n",
    "    \n",
    "    # On retourne les K premiers résultat\n",
    "    return distance_result[0:K]"
   ]
  },
  {
   "cell_type": "markdown",
   "metadata": {},
   "source": [
    "### 3.3. Recherche avec une méthode d'indexation basé sur K-Means\n",
    "\n",
    "On calcule la distance entre l'image d'entrée et les images de la base appartenant au même cluster que l'image d'entrée\n",
    "\n",
    "**Input :**\n",
    "- *image_name* : Nom de l'image d'entrée\n",
    "- *caracteristiquesImages* : ls caractéristiques (couleur, forme) des images dans le système\n",
    "- *histSize* : nombre de bins (nombre de valeur des pixels)\n",
    "- *histRange* : plage des valeurs des pixels pour les différents channels\n",
    "- *espaceCouleur* : l'espace de couleur considéré\n",
    "- *w1* : le poids associé à la couleur\n",
    "- *w2* : le poids associé à la forme\n",
    "- *km* : le modèle K-Means entrainé sur les images de la base\n",
    "- *clusters* : la liste des clusters aux quels appartiennes chaque image de la base\n",
    "\n",
    "**Output :** tableau contenant les noms et distances des K images les plus proches\n",
    "\n",
    "**Algorithme :**\n",
    "\n",
    "- on charge l'image d'entrée\n",
    "- on calcule les caractéristiques de l'image d'entrée (Histogramme couleur et moments de Hu)\n",
    "- on recherche le cluster de l'image d'entrée à partir de ces caractéristiques\n",
    "- on calcule les distances entre l'image d'entrée et les images appartenant au même cluster que l'image d'entrée\n",
    "- on recherche les K images les plus proches"
   ]
  },
  {
   "cell_type": "code",
   "execution_count": 7,
   "metadata": {},
   "outputs": [],
   "source": [
    "def recherche_kmeans(image_name, caracteristiquesImages, histSize, histRange, espaceCouleur, w1, w2, km, clusters):\n",
    "    # On charge l'image d'entrée\n",
    "    image = cv.imread(PATH_IMAGE+image_name)\n",
    "    image = cv.cvtColor(image, cv.COLOR_BGR2RGB)\n",
    "\n",
    "    # Calculs de l'histogramme couleur\n",
    "    histogram_entree = calcul_histogramme([image], histSize=histSize, histRange=histRange, espaceCouleur=espaceCouleur)[0]\n",
    "    \n",
    "    # Calcul des moments de Hu\n",
    "    hu_moment_entree = calcul_hu_moments([image])[0]\n",
    "    \n",
    "    # On Recherche la classe de l'image d'entrée\n",
    "    caracteristique_entree = np.array([np.concatenate((histogram_entree, hu_moment_entree), axis=None)])\n",
    "    cluster_entree = km.predict(caracteristique_entree)\n",
    "    \n",
    "    # On recherche toutes les index des caractéristiques des images se trouvant dans la même classe que l'image d'entrée\n",
    "    clusters_images = [ind for ind, cluster in enumerate(clusters) if cluster == cluster_entree]\n",
    "\n",
    "    # Tableau contenant les distances des images ayant les caractéristiques les plus proches\n",
    "    distance_result = []\n",
    "\n",
    "    # Calcul des distances par rapport à chaque image retournée par l'arbre KD-Tree\n",
    "    for i in clusters_images:\n",
    "        if espaceCouleur == 'RGB':\n",
    "            d_chi_square = cv.compareHist(histogram_entree, caracteristiquesImages[i][1][0], 1)\n",
    "        elif espaceCouleur == 'Lab':\n",
    "            d_chi_square = cv.compareHist(histogram_entree, caracteristiquesImages[i][1][1], 1)\n",
    "        elif espaceCouleur == 'TSV':\n",
    "            d_chi_square = cv.compareHist(histogram_entree, caracteristiquesImages[i][1][2], 1)\n",
    "        d_euclidian = distance.euclidean(hu_moment_entree, caracteristiquesImages[i][2])\n",
    "        d_total = d_chi_square * w1 + d_euclidian * w2\n",
    "        dist = [i, d_total]\n",
    "        distance_result.append(dist)\n",
    "        \n",
    "    # Trie du tableau\n",
    "    distance_result = sorted(distance_result, key=lambda x: x[1])\n",
    "    \n",
    "    # On retourne les K premiers résultat\n",
    "    return distance_result[0:K]"
   ]
  },
  {
   "cell_type": "markdown",
   "metadata": {},
   "source": [
    "### 3.4. Recherche avec une méthode d'indexation basé sur la méthode de hachage LSH\n",
    "\n",
    "On calcule la distance entre l'image d'entrée et les 100 images les plus proches dans LSH\n",
    "\n",
    "**Input :**\n",
    "- *image_name* : Nom de l'image d'entrée\n",
    "- *caracteristiquesImages* : ls caractéristiques (couleur, forme) des images dans le système\n",
    "- *histSize* : nombre de bins (nombre de valeur des pixels)\n",
    "- *histRange* : plage des valeurs des pixels pour les différents channels\n",
    "- *espaceCouleur* : l'espace de couleur considéré\n",
    "- *w1* : le poids associé à la couleur\n",
    "- *w2* : le poids associé à la forme\n",
    "- *lsh* : le hachage des images de la base\n",
    "\n",
    "**Output :** tableau contenant les noms et distances des K images les plus proches\n",
    "\n",
    "**Algorithme :**\n",
    "\n",
    "- on charge l'image d'entrée\n",
    "- on calcule les caractéristiques de l'image d'entrée (Histogramme couleur et moments de Hu)\n",
    "- on recherche dans lsh les 100 images les plus proche\n",
    "- on calcule les distances des 100 images retournées par lsh\n",
    "- on recherche les K images les plus proches"
   ]
  },
  {
   "cell_type": "code",
   "execution_count": 8,
   "metadata": {},
   "outputs": [],
   "source": [
    "def recherche_lsh(image_name, caracteristiquesImages, histSize, histRange, espaceCouleur, w1, w2, lsh):\n",
    "    # On charge l'image d'entrée\n",
    "    image = cv.imread(PATH_IMAGE+image_name)\n",
    "    image = cv.cvtColor(image, cv.COLOR_BGR2RGB)\n",
    "\n",
    "    # Calculs de l'histogramme couleur\n",
    "    histogram_entree = calcul_histogramme([image], histSize=histSize, histRange=histRange, espaceCouleur=espaceCouleur)[0]\n",
    "    \n",
    "    # Calcul des moments de Hu\n",
    "    hu_moment_entree = calcul_hu_moments([image])[0]\n",
    "    \n",
    "    # On Recherche les 100 caractéristiques les plus proches\n",
    "    caracteristique_entree = np.concatenate((histogram_entree, hu_moment_entree), axis=None)\n",
    "    caracteristique_entree = csr_matrix([caracteristique_entree])\n",
    "    points = lsh.query(caracteristique_entree, num_results=100)\n",
    "\n",
    "    # Tableau contenant les distances des images ayant les caractéristiques les plus proches\n",
    "    distance_result = []\n",
    "\n",
    "    # Calcul des distances par rapport à chaque image retournée par lsh\n",
    "    for p in points:\n",
    "        i = p[0][1]\n",
    "        if espaceCouleur == 'RGB':\n",
    "            d_chi_square = cv.compareHist(histogram_entree, caracteristiquesImages[i][1][0], 1)\n",
    "        elif espaceCouleur == 'Lab':\n",
    "            d_chi_square = cv.compareHist(histogram_entree, caracteristiquesImages[i][1][1], 1)\n",
    "        elif espaceCouleur == 'TSV':\n",
    "            d_chi_square = cv.compareHist(histogram_entree, caracteristiquesImages[i][1][2], 1)\n",
    "        d_euclidian = distance.euclidean(hu_moment_entree, caracteristiquesImages[i][2])\n",
    "        d_total = d_chi_square * w1 + d_euclidian * w2\n",
    "        dist = [i, d_total]\n",
    "        distance_result.append(dist)\n",
    "        \n",
    "    # Trie du tableau\n",
    "    distance_result = sorted(distance_result, key=lambda x: x[1])\n",
    "    \n",
    "    # On retourne les K premiers résultat\n",
    "    return distance_result[0:K]"
   ]
  },
  {
   "cell_type": "markdown",
   "metadata": {},
   "source": [
    "## 4. Fonctions d'évaluation\n",
    "\n",
    "Ces fonctions permettent de faire l'évaluation des différentes méthodes d'indexation avec 100 images issues de 100 classes différentes. Elles calculent les K images les plus proches pour chaque image d'entrée et retourne la somme des tp, fp, fn et tn sachant que :\n",
    "\n",
    "- tp : True positive (Nombre de résultat pertinent retrouvé)\n",
    "- fp : False positive (Nombre de résultat non pertinent retrouvé)\n",
    "- fn : False negative (Nombre de résultat pertinent non retrouvé)\n",
    "- tn : True negative (Nombre de résultat non pertinent non retrouvé)"
   ]
  },
  {
   "cell_type": "markdown",
   "metadata": {},
   "source": [
    "### 4.1. Evaluation sans méthode indexation\n",
    "\n",
    "**Input :**\n",
    "- *data_evaluation* : Tableau contenant les images d'entrées pour l'évaluation\n",
    "- *caracteristiquesImages* : les caractéristiques (couleur, forme) des images dans le système\n",
    "- *couleur* : l'espace de couleur considéré\n",
    "- *w1* : le poids associé à la couleur\n",
    "- *w2* : le poids associé à la forme\n",
    "\n",
    "**Output :** tp, fp, fn, tn\n",
    "\n",
    "**Algorithme :**\n",
    "\n",
    "- pour chaque image d'évaluation, on calcule tp, fp, fn et tn\n",
    "- on fait la somme des tp, fp, fn et tn et on retourne le résultat"
   ]
  },
  {
   "cell_type": "code",
   "execution_count": 9,
   "metadata": {},
   "outputs": [],
   "source": [
    "def evaluation(data_evaluation, caracteristiquesImages, couleur, w1, w2):\n",
    "    tp_ = 0 # On initialise le nombre de true positive\n",
    "    fp_ = 0 # On initialise le nombre de false positive\n",
    "    fn_ = 0 # On initialise le nombre de false négative\n",
    "    tn_ = 0 # On initialise le nombre de true négative\n",
    "    for image_eval in data_evaluation: # Pour toutes les paires de (espace_couleur, w1_w2), on recherche les diférents objets\n",
    "        # On recupère les K images les plus proches de l'objet en cour\n",
    "        result = recherche(image_eval, caracteristiquesImages, HIST_SIZE, HIST_RANGE, couleur, w1, w2)\n",
    "        tp = 0\n",
    "        fp = 0\n",
    "        for r in result: # On parcourt chaque objet résultat\n",
    "            obj_result = caracteristiquesImages[r[0]][0].split('__')[0]\n",
    "            if image_eval.split('__')[0] == obj_result: # On vérifie s'il s'agit d'un résultat pertinent\n",
    "                tp += 1 # Résultat pertinent\n",
    "            else:\n",
    "                fp += 1 # Résultat non pertinent\n",
    "        fn = nbre_imagepar_classe - tp\n",
    "        tn = (nbre_imagepar_classe * 99) - fp\n",
    "        tp_ += tp\n",
    "        fp_ += fp\n",
    "        fn_ += fn\n",
    "        tn_ += tn\n",
    "    return tp_, fp_, fn_, tn_"
   ]
  },
  {
   "cell_type": "markdown",
   "metadata": {},
   "source": [
    "### 4.2. Evaluation en utilisant l'indexation basé sur KD-Tree\n",
    "\n",
    "**Input :**\n",
    "- *data_evaluation* : Tableau contenant les images d'entrées pour l'évaluation\n",
    "- *caracteristiquesImages* : les caractéristiques (couleur, forme) des images dans le système\n",
    "- *couleur* : l'espace de couleur considéré\n",
    "- *w1* : le poids associé à la couleur\n",
    "- *w2* : le poids associé à la forme\n",
    "- *kd_tree* : l'arbre KD-Tree contenant les caractéristiques des images indexées\n",
    "\n",
    "**Output :** tp, fp, fn, tn\n",
    "\n",
    "**Algorithme :**\n",
    "\n",
    "- pour chaque image d'évaluation, on calcule tp, fp, fn et tn\n",
    "- on fait la somme des tp, fp, fn et tn et on retourne le résultat"
   ]
  },
  {
   "cell_type": "code",
   "execution_count": 10,
   "metadata": {},
   "outputs": [],
   "source": [
    "def evaluation_arbre(data_evaluation, caracteristiquesImages, couleur, w1, w2, kd_tree):\n",
    "    tp_ = 0 # On initialise le nombre de true positive\n",
    "    fp_ = 0 # On initialise le nombre de false positive\n",
    "    fn_ = 0 # On initialise le nombre de false négative\n",
    "    tn_ = 0 # On initialise le nombre de true négative\n",
    "    for image_eval in data_evaluation: # Pour toutes les paires de (espace_couleur, w1_w2), on recherche les diférents objets\n",
    "        # On recupère les K images les plus proches de l'objet en cour\n",
    "        result = recherche_arbre(image_eval, caracteristiquesImages, HIST_SIZE, HIST_RANGE, couleur, w1, w2, kd_tree)\n",
    "\n",
    "        tp = 0\n",
    "        fp = 0\n",
    "        for r in result: # On parcourt chaque objet résultat\n",
    "            obj_result = caracteristiquesImages[r[0]][0].split('__')[0]\n",
    "            if image_eval.split('__')[0] == obj_result: # On vérifie s'il s'agit d'un résultat pertinent\n",
    "                tp += 1 # Résultat pertinent\n",
    "            else:\n",
    "                fp += 1 # Résultat non pertinent\n",
    "        fn = nbre_imagepar_classe - tp\n",
    "        tn = (nbre_imagepar_classe * 99) - fp\n",
    "        tp_ += tp\n",
    "        fp_ += fp\n",
    "        fn_ += fn\n",
    "        tn_ += tn\n",
    "    return tp_, fp_, fn_, tn_"
   ]
  },
  {
   "cell_type": "markdown",
   "metadata": {},
   "source": [
    "### 4.3. Evaluation en utilisant l'indexation basé sur K-Means\n",
    "\n",
    "**Input :**\n",
    "- *data_evaluation* : Tableau contenant les images d'entrées pour l'évaluation\n",
    "- *caracteristiquesImages* : les caractéristiques (couleur, forme) des images dans le système\n",
    "- *couleur* : l'espace de couleur considéré\n",
    "- *w1* : le poids associé à la couleur\n",
    "- *w2* : le poids associé à la forme\n",
    "- *km* : le modèle K-Means entrainé sur les caractéristiques des images de la base\n",
    "- *clusters* : le cluster de chaque image de la base\n",
    "\n",
    "**Output :** tp, fp, fn, tn\n",
    "\n",
    "**Algorithme :**\n",
    "\n",
    "- pour chaque image d'évaluation, on calcule tp, fp, fn et tn\n",
    "- on fait la somme des tp, fp, fn et tn et on retourne le résultat"
   ]
  },
  {
   "cell_type": "code",
   "execution_count": 11,
   "metadata": {},
   "outputs": [],
   "source": [
    "def evaluation_kmeans(data_evaluation, caracteristiquesImages, couleur, w1, w2, km, clusters):\n",
    "    tp_ = 0 # On initialise le nombre de true positive\n",
    "    fp_ = 0 # On initialise le nombre de false positive\n",
    "    fn_ = 0 # On initialise le nombre de false négative\n",
    "    tn_ = 0 # On initialise le nombre de true négative\n",
    "    for image_eval in data_evaluation: # Pour toutes les paires de (espace_couleur, w1_w2), on recherche les diférents objets\n",
    "        # On recupère les K images les plus proches de l'objet en cour\n",
    "        result = recherche_kmeans(image_eval, caracteristiquesImages, HIST_SIZE, HIST_RANGE, couleur, w1, w2, km, clusters)\n",
    "        tp = 0\n",
    "        fp = 0\n",
    "        for r in result: # On parcourt chaque objet résultat\n",
    "            obj_result = caracteristiquesImages[r[0]][0].split('__')[0]\n",
    "            if image_eval.split('__')[0] == obj_result: # On vérifie s'il s'agit d'un résultat pertinent\n",
    "                tp += 1 # Résultat pertinent\n",
    "            else:\n",
    "                fp += 1 # Résultat non pertinent\n",
    "        fn = nbre_imagepar_classe - tp\n",
    "        tn = (nbre_imagepar_classe * 99) - fp\n",
    "        tp_ += tp\n",
    "        fp_ += fp\n",
    "        fn_ += fn\n",
    "        tn_ += tn\n",
    "    return tp_, fp_, fn_, tn_"
   ]
  },
  {
   "cell_type": "markdown",
   "metadata": {},
   "source": [
    "### 4.4. Evaluation en utilisant l'indexation basé sur LSH\n",
    "\n",
    "**Input :**\n",
    "- *data_evaluation* : Tableau contenant les images d'entrées pour l'évaluation\n",
    "- *caracteristiquesImages* : les caractéristiques (couleur, forme) des images dans le système\n",
    "- *couleur* : l'espace de couleur considéré\n",
    "- *w1* : le poids associé à la couleur\n",
    "- *w2* : le poids associé à la forme\n",
    "- *lsh* : le hachage des images de la base\n",
    "\n",
    "**Output :** tp, fp, fn, tn\n",
    "\n",
    "**Algorithme :**\n",
    "\n",
    "- pour chaque image d'évaluation, on calcule tp, fp, fn et tn\n",
    "- on fait la somme des tp, fp, fn et tn et on retourne le résultat"
   ]
  },
  {
   "cell_type": "code",
   "execution_count": 12,
   "metadata": {},
   "outputs": [],
   "source": [
    "def evaluation_lsh(data_evaluation, caracteristiquesImages, couleur, w1, w2, lsh):\n",
    "    tp_ = 0 # On initialise le nombre de true positive\n",
    "    fp_ = 0 # On initialise le nombre de false positive\n",
    "    fn_ = 0 # On initialise le nombre de false négative\n",
    "    tn_ = 0 # On initialise le nombre de true négative\n",
    "    for image_eval in data_evaluation: # Pour toutes les paires de (espace_couleur, w1_w2), on recherche les diférents objets\n",
    "        # On recupère les K images les plus proches de l'objet en cour\n",
    "        result = recherche_lsh(image_eval, caracteristiquesImages, HIST_SIZE, HIST_RANGE, couleur, w1, w2, lsh)\n",
    "        tp = 0\n",
    "        fp = 0\n",
    "        for r in result: # On parcourt chaque objet résultat\n",
    "            obj_result = caracteristiquesImages[r[0]][0].split('__')[0]\n",
    "            if image_eval.split('__')[0] == obj_result: # On vérifie s'il s'agit d'un résultat pertinent\n",
    "                tp += 1 # Résultat pertinent\n",
    "            else:\n",
    "                fp += 1 # Résultat non pertinent\n",
    "        fn = nbre_imagepar_classe - tp\n",
    "        tn = (nbre_imagepar_classe * 99) - fp\n",
    "        tp_ += tp\n",
    "        fp_ += fp\n",
    "        fn_ += fn\n",
    "        tn_ += tn\n",
    "    return tp_, fp_, fn_, tn_"
   ]
  },
  {
   "cell_type": "markdown",
   "metadata": {},
   "source": [
    "## 5. Fonction pour afficher les résultats\n",
    "\n",
    "Cette fonction affiche un text avec une mise en forme (couleur et taille)"
   ]
  },
  {
   "cell_type": "code",
   "execution_count": 13,
   "metadata": {},
   "outputs": [],
   "source": [
    "def printmd(string, color=None, font_size=3):\n",
    "    colorstr = \"<span style='color:{}'><font size='{}'>{}</font></span>\".format(color, font_size, string)\n",
    "    display(Markdown(colorstr))"
   ]
  },
  {
   "cell_type": "markdown",
   "metadata": {},
   "source": [
    "## <center>Fin partie I</center>\n",
    "\n",
    "<br>\n",
    "<br>\n",
    "<br>\n",
    "\n",
    "# -----------------------------------------------------------------------------------------------------------\n",
    "\n",
    "<br>\n",
    "<br>\n",
    "<br>\n",
    "\n",
    "## <center>Début partie II</center>"
   ]
  },
  {
   "cell_type": "markdown",
   "metadata": {},
   "source": [
    "# II. Pré-calcul des caractéristiques des images du dataset\n",
    "\n",
    "L'objectif ici est de pré-calculer toutes les caractéristiques des images et de les stocker dans un fichier qui pourra être utilisé plus tard pour la suite de notre travail"
   ]
  },
  {
   "cell_type": "markdown",
   "metadata": {},
   "source": [
    "## 1. Lecture des images"
   ]
  },
  {
   "cell_type": "markdown",
   "metadata": {},
   "source": [
    "### 1.1. Data importation\n",
    "\n",
    "Nous lisons les images et les stoquons dans un tableau"
   ]
  },
  {
   "cell_type": "code",
   "execution_count": 14,
   "metadata": {},
   "outputs": [
    {
     "name": "stderr",
     "output_type": "stream",
     "text": [
      "Chargement des images : 100%|██████████ [ time left: 00:00 ]\n"
     ]
    }
   ],
   "source": [
    "# Nous allons lire les images stockés sur le disque dur\n",
    "\n",
    "liste_fichier = [ f for f in os.listdir(PATH_IMAGE) \n",
    "                 if os.path.isfile(os.path.join(PATH_IMAGE,f)) ] # Liste des fichiers sur le disque dur\n",
    "\n",
    "images = [] # Tableau contenant les images\n",
    "nom_images = [] # Tableau contenant les noms des diférentes images\n",
    "# La i-ème image du tableau 'images' aura le i-ème nom du tableau 'nom_image'\n",
    "\n",
    "with tqdm(total=len(liste_fichier), desc=\"Chargement des images \", bar_format=\"{l_bar}{bar} [ time left: {remaining} ]\") as pbar:\n",
    "    for img in liste_fichier:\n",
    "        if img.split('.')[1] == 'png': # On recupère uniquement les fichiers images\n",
    "            image = cv.imread(os.path.join(PATH_IMAGE, img))\n",
    "            image = cv.cvtColor(image, cv.COLOR_BGR2RGB) # On passe aux images RGB\n",
    "            images.append(image) # On suavegarde l'image\n",
    "            nom_images.append(img.split('.')[0]) # On sauvegarde le nom de l'images\n",
    "        pbar.update(1)\n",
    "    \n",
    "images = np.array(images)\n",
    "nom_images = np.array(nom_images)"
   ]
  },
  {
   "cell_type": "code",
   "execution_count": 15,
   "metadata": {},
   "outputs": [
    {
     "name": "stdout",
     "output_type": "stream",
     "text": [
      "Le nombre total d'images est : 7200\n"
     ]
    }
   ],
   "source": [
    "print(\"Le nombre total d'images est : {}\".format(images.shape[0]))"
   ]
  },
  {
   "cell_type": "markdown",
   "metadata": {},
   "source": [
    "### 1.2. Data visualisation"
   ]
  },
  {
   "cell_type": "code",
   "execution_count": 16,
   "metadata": {},
   "outputs": [
    {
     "data": {
      "image/png": "[encoded data removed]",
      "text/plain": [
       "<Figure size 720x720 with 12 Axes>"
      ]
     },
     "metadata": {
      "needs_background": "light"
     },
     "output_type": "display_data"
    }
   ],
   "source": [
    "# Affichage de quelques images\n",
    "\n",
    "plt.figure(figsize=(10, 10))\n",
    "for k, i in np.ndenumerate(np.random.randint(images.shape[0], size=12)):\n",
    "    ax = plt.subplot(4, 4, k[0] + 1)\n",
    "    plt.imshow(images[i])\n",
    "    plt.title('Nom: {}'.format(nom_images[i]))\n",
    "    plt.axis(\"off\")"
   ]
  },
  {
   "cell_type": "markdown",
   "metadata": {},
   "source": [
    "## 2. Calcul des caractéristiques"
   ]
  },
  {
   "cell_type": "markdown",
   "metadata": {},
   "source": [
    "### 2.1. Calcul des histogrammes\n",
    "\n",
    "Nous calculons les histogrammes couleurs des différentes images dans les différents espaces de couleur. Pour cela, nous utilisons la fonction *calcul_histogramme(images, histSize=32, histRange=(0, 256), espaceCouleur='RGB')* créé précédemment\n"
   ]
  },
  {
   "cell_type": "code",
   "execution_count": 17,
   "metadata": {},
   "outputs": [],
   "source": [
    "# Calcul de l'histogramme dans l'espace RGB\n",
    "histogrammes_rgb = calcul_histogramme(images, histSize=HIST_SIZE, histRange=HIST_RANGE, espaceCouleur='RGB')\n",
    "\n",
    "# Calcul de l'histogramme dans l'espace La*b*\n",
    "histogrammes_lab = calcul_histogramme(images, histSize=HIST_SIZE, histRange=HIST_RANGE, espaceCouleur='Lab')\n",
    "\n",
    "# Calcul de l'histogramme dans l'espace TSV\n",
    "histogrammes_tsv = calcul_histogramme(images, histSize=HIST_SIZE, histRange=HIST_RANGE, espaceCouleur='TSV')"
   ]
  },
  {
   "cell_type": "markdown",
   "metadata": {},
   "source": [
    "### 2.2. Visualisation de quelques histogrammes"
   ]
  },
  {
   "cell_type": "markdown",
   "metadata": {},
   "source": [
    "####  2.2.1. Histogramme dans l'espace de couleur RGB"
   ]
  },
  {
   "cell_type": "code",
   "execution_count": 18,
   "metadata": {},
   "outputs": [
    {
     "data": {
      "image/png": "[encoded data removed]",
      "text/plain": [
       "<Figure size 1080x360 with 1 Axes>"
      ]
     },
     "metadata": {
      "needs_background": "light"
     },
     "output_type": "display_data"
    }
   ],
   "source": [
    "# Affichage de quelques histogrammes\n",
    "\n",
    "plt.figure(figsize=(15, 5))\n",
    "for k, i in np.ndenumerate(np.random.randint(histogrammes_rgb.shape[0], size=1)):\n",
    "    ax = plt.subplot(1, 1, k[0] + 1)\n",
    "    sns.barplot(x=[i for i in range(len(histogrammes_rgb[i]))], y=np.asarray(histogrammes_rgb[i].reshape(-1)))\n",
    "    plt.title('Nom: {}'.format(nom_images[i]))\n",
    "    plt.axis([0, len(histogrammes_rgb[i])-1, 0, 1])\n",
    "    ax.set_xticklabels([])\n",
    "    plt.title('Histogramme dans l\\'espace de couleur RGB')"
   ]
  },
  {
   "cell_type": "markdown",
   "metadata": {},
   "source": [
    "####  2.2.2. Histogramme dans l'espace de couleur Lab"
   ]
  },
  {
   "cell_type": "code",
   "execution_count": 19,
   "metadata": {},
   "outputs": [
    {
     "data": {
      "image/png": "[encoded data removed]",
      "text/plain": [
       "<Figure size 720x360 with 1 Axes>"
      ]
     },
     "metadata": {
      "needs_background": "light"
     },
     "output_type": "display_data"
    }
   ],
   "source": [
    "# Affichage de quelques histogrammes\n",
    "\n",
    "plt.figure(figsize=(10, 5))\n",
    "for k, i in np.ndenumerate(np.random.randint(histogrammes_lab.shape[0], size=1)):\n",
    "    ax = plt.subplot(1, 1, k[0] + 1)\n",
    "    sns.barplot(x=[i for i in range(len(histogrammes_lab[i]))], y=np.asarray(histogrammes_lab[i].reshape(-1)))\n",
    "    plt.title('Nom: {}'.format(nom_images[i]))\n",
    "    plt.axis([0, len(histogrammes_lab[i])-1, 0, 1])\n",
    "    ax.set_xticklabels([])\n",
    "    plt.title('Histogramme dans l\\'espace de couleur La*b*')"
   ]
  },
  {
   "cell_type": "markdown",
   "metadata": {},
   "source": [
    "####  2.2.3. Histogramme dans l'espace de couleur TSV"
   ]
  },
  {
   "cell_type": "code",
   "execution_count": 20,
   "metadata": {},
   "outputs": [
    {
     "data": {
      "image/png": "[encoded data removed]",
      "text/plain": [
       "<Figure size 720x360 with 1 Axes>"
      ]
     },
     "metadata": {
      "needs_background": "light"
     },
     "output_type": "display_data"
    }
   ],
   "source": [
    "# Affichage de quelques histogrammes\n",
    "\n",
    "plt.figure(figsize=(10, 5))\n",
    "for k, i in np.ndenumerate(np.random.randint(histogrammes_tsv.shape[0], size=1)):\n",
    "    ax = plt.subplot(1, 1, k[0] + 1)\n",
    "    sns.barplot(x=[i for i in range(len(histogrammes_tsv[i]))], y=np.asarray(histogrammes_tsv[i].reshape(-1)))\n",
    "    plt.title('Nom: {}'.format(nom_images[i]))\n",
    "    plt.axis([0, len(histogrammes_tsv[i])-1, 0, 1])\n",
    "    ax.set_xticklabels([])\n",
    "    plt.title('Histogramme dans l\\'espace de couleur TSV')"
   ]
  },
  {
   "cell_type": "markdown",
   "metadata": {},
   "source": [
    "### 2.3. Calcul des moments de Hu (descripteur de forme)\n",
    "\n",
    "Nous calculons les moments de Hu des images de la base de données. Pour cela, nous utilisons la fonction *calcul_hu_moments(images)*"
   ]
  },
  {
   "cell_type": "code",
   "execution_count": 21,
   "metadata": {},
   "outputs": [],
   "source": [
    "hu_moments = calcul_hu_moments(images)"
   ]
  },
  {
   "cell_type": "code",
   "execution_count": 22,
   "metadata": {},
   "outputs": [
    {
     "data": {
      "text/plain": [
       "(7200, 7)"
      ]
     },
     "execution_count": 22,
     "metadata": {},
     "output_type": "execute_result"
    }
   ],
   "source": [
    "hu_moments.shape"
   ]
  },
  {
   "cell_type": "markdown",
   "metadata": {},
   "source": [
    "### 2.4. Visualisation des moments de Hu d'une image"
   ]
  },
  {
   "cell_type": "code",
   "execution_count": 23,
   "metadata": {},
   "outputs": [
    {
     "name": "stdout",
     "output_type": "stream",
     "text": [
      "[ 2.77072428  6.96807038  9.86489308 10.16604817 20.34345377 13.66550735\n",
      " 20.32118451]\n"
     ]
    }
   ],
   "source": [
    "print(hu_moments[0])"
   ]
  },
  {
   "cell_type": "markdown",
   "metadata": {},
   "source": [
    "## 3. Sauvegarde des caractéristiques\n",
    "\n",
    "On commence par stocker toutes les caractéristiques dans un tableau et ensuite on les sauvegardes dans un fichier .npy"
   ]
  },
  {
   "cell_type": "code",
   "execution_count": 24,
   "metadata": {},
   "outputs": [],
   "source": [
    "# Stockage dans un tableau général\n",
    "caracteristiquesImages = []\n",
    "for i in range(len(images)):\n",
    "    c_g = [nom_images[i], [histogrammes_rgb[i], histogrammes_lab[i], histogrammes_tsv[i]], hu_moments[i]]\n",
    "    caracteristiquesImages.append(c_g)\n",
    "\n",
    "# Sauvegarde dans un fichier nomé caractéristiquesImages.npy\n",
    "np.save('caracteristiquesImages.npy', np.array(caracteristiquesImages, dtype=object))"
   ]
  },
  {
   "cell_type": "markdown",
   "metadata": {},
   "source": [
    "## <center>Fin partie II</center>\n",
    "\n",
    "<br>\n",
    "<br>\n",
    "<br>\n",
    "\n",
    "# -----------------------------------------------------------------------------------------------------------\n",
    "\n",
    "<br>\n",
    "<br>\n",
    "<br>\n",
    "\n",
    "## <center>Début partie III</center>"
   ]
  },
  {
   "cell_type": "markdown",
   "metadata": {},
   "source": [
    "# III. Recherche des meilleurs paramètres\n",
    "Notre objectif ici est d'évaluer notre système en fonction des différents paramètres afin d'évaluer les méthodes d'indexation avec les meilleurs paramètres. Notre objectif ici est donc de trouver l'espace de couleur et les poids w1 et w2 qui donnent les melleurs résultats de recherche. Pour cela, nous allons:\n",
    "\n",
    "1. Evaluation en fonction de l'espace de couleur\n",
    "2. Evaluation en fonction des poids *w1* et *w2*\n",
    "\n",
    "Nous allons faire l'évaluation en utilisant seulement la précision sachant que : $precision=\\frac{tp}{tp + fp}$ avec :\n",
    "- tp : True positive (Nombre de résultat pertinent retrouvé)\n",
    "- fp : False positive (Nombre de résultat non pertinent retrouvé)"
   ]
  },
  {
   "cell_type": "markdown",
   "metadata": {},
   "source": [
    "## 1. Lecture des caractéristiques"
   ]
  },
  {
   "cell_type": "code",
   "execution_count": 25,
   "metadata": {},
   "outputs": [],
   "source": [
    "# Lecture des caractéristiques des images\n",
    "caracteristiquesImages = np.load('caracteristiquesImages.npy', allow_pickle=True)"
   ]
  },
  {
   "cell_type": "markdown",
   "metadata": {},
   "source": [
    "## 2. Evaluation des différents paramètres (espace de couleur et valeurs des poids)\n",
    "\n",
    "Nous alons évaluer tous les espaces de couleur, et pour chaque espace, nous allons évaluer différentes valeurs de *w1* et *w2*"
   ]
  },
  {
   "cell_type": "code",
   "execution_count": 26,
   "metadata": {},
   "outputs": [],
   "source": [
    "espace_couleur = ['RGB', 'Lab', 'TSV']\n",
    "poids_eval_w1 = [0.1, 0.2, 0.3, 0.4, 0.5, 0.6, 0.7, 0.8, 0.9]\n",
    "\n",
    "final_result = []\n",
    "\n",
    "for couleur in espace_couleur: # On parcourt tous les espaces de couleur\n",
    "    for w1 in poids_eval_w1: # On teste différentes valeurs de w1 et w2\n",
    "        tp, fp, fn, tn = evaluation(data_evaluation, caracteristiquesImages, couleur, w1, 1-w1)\n",
    "        precision = tp/(tp+fp) # On calcule la précision pour les paires de (espace_couleur, w1_w2)\n",
    "        f_r = [couleur, '({}, {})'.format(round(w1, 1), round(1-w1, 1)), precision] # On stocke le résultat\n",
    "        final_result.append(f_r)"
   ]
  },
  {
   "cell_type": "markdown",
   "metadata": {},
   "source": [
    "## 3. Affichage des résultats d'évaluation\n",
    "\n",
    "Nous affichons les résultats obtenus pour chaque paire (espace_couleur, w1_w2) évaluées précedement"
   ]
  },
  {
   "cell_type": "code",
   "execution_count": 27,
   "metadata": {},
   "outputs": [
    {
     "data": {
      "text/plain": [
       "Text(0.5, 1.0, 'Evaluation des différents paramètres')"
      ]
     },
     "execution_count": 27,
     "metadata": {},
     "output_type": "execute_result"
    },
    {
     "data": {
      "image/png": "[encoded data removed]",
      "text/plain": [
       "<Figure size 1080x360 with 1 Axes>"
      ]
     },
     "metadata": {
      "needs_background": "light"
     },
     "output_type": "display_data"
    }
   ],
   "source": [
    "final_result = pd.DataFrame(final_result, columns=['Couleur', 'Poids(w1, w2)', 'Précision'])\n",
    "plt.figure(figsize=(15, 5))\n",
    "ax = sns.barplot(x=\"Poids(w1, w2)\", y=\"Précision\", hue=\"Couleur\", data=final_result)\n",
    "plt.axis([-1, 9, 0, 1])\n",
    "plt.title('Evaluation des différents paramètres')"
   ]
  },
  {
   "cell_type": "markdown",
   "metadata": {},
   "source": [
    "Comme nous pouvons le remarquer, les meilleurs résultats sont obtenus avec l'espace de couleur **Lab** et les poids\n",
    "**w1=0.9** et **w2=0.1** avec une précision d'enirons **80%**"
   ]
  },
  {
   "cell_type": "markdown",
   "metadata": {},
   "source": [
    "## <center>Fin partie III</center>\n",
    "\n",
    "<br>\n",
    "<br>\n",
    "<br>\n",
    "\n",
    "# -----------------------------------------------------------------------------------------------------------\n",
    "\n",
    "<br>\n",
    "<br>\n",
    "<br>\n",
    "\n",
    "## <center>Début partie IV</center>"
   ]
  },
  {
   "cell_type": "markdown",
   "metadata": {},
   "source": [
    "## <span style='color:red'>NB: Dans la suite de notre travail, nous allons utiliser exclusivement l'espace de couleur **Lab** parce qu'il donne les meilleurs résultats. Nous utiliserons également les poids *w1=0.9* et *w2=0.1*</span>"
   ]
  },
  {
   "cell_type": "markdown",
   "metadata": {},
   "source": [
    "\n",
    "# IV. Evaluation des différentes méthodes d'indexation\n",
    "\n",
    "L'objectif ici est d'utiliser plusieurs méthodes différentes d'indexation et de les comparer en terme de perfomance (précision, rappel, score F), et de temps de calcul (en seconde)\n",
    "\n",
    "Pour chaque méthode d'indexation, nous allons :\n",
    "\n",
    "1. Evaluer la perfomance avec le score F : Nous alons effectuer la recherche avec 100 images appartenant aux classes différentes\n",
    "1. Evaluer le temps d'exécution en calculant la durée moyenne de recherche pour une recherche éffctuée\n",
    "\n",
    "\n",
    "Nous allons faire l'évaluation en utilisant : le score F sachant que $F=\\frac{2*precision*rappel}{precision + rappel}$ avec\n",
    "\n",
    "1. $precision=\\frac{tp}{tp + fp}$\n",
    "1. $rappel=\\frac{tp}{tp + fn}$\n",
    "\n",
    "\n",
    "- tp : True positive (Nombre de résultat pertinent retrouvé)\n",
    "- fp : False positive (Nombre de résultat non pertinent retrouvé)\n",
    "- fn : False negative (Nombre de résultat pertinent non retrouvé)\n",
    "\n",
    "Pour le calcul du temps d'exécution, nous allons effectuer 100 requetes et nous allons faire la moyenne du temps de chaque requete"
   ]
  },
  {
   "cell_type": "code",
   "execution_count": 28,
   "metadata": {},
   "outputs": [],
   "source": [
    "# Image d'entrée\n",
    "image_name = \"obj10__0.png\"\n",
    "\n",
    "# Paramètres\n",
    "couleur = 'Lab'\n",
    "w1 = 0.9\n",
    "w2 = 0.1\n",
    "\n",
    "# Lecture des caractéristiques des images\n",
    "caracteristiquesImages = np.load('caracteristiquesImages.npy', allow_pickle=True)"
   ]
  },
  {
   "cell_type": "markdown",
   "metadata": {},
   "source": [
    "## 1. Evaluation sans utilisation des index\n",
    "\n",
    "Ici, nous alons faire une évaluation sans utiliser un système d'indexation. Nous alons donc calculer la distance pondérée sur chacune des 7200 images de la base de données."
   ]
  },
  {
   "cell_type": "markdown",
   "metadata": {},
   "source": [
    "### 1.1. Evaluation de la perfomance de recherche\n",
    "\n",
    "Nous utilisation les 100 images d'évaluation créé dans les paramètres généraux"
   ]
  },
  {
   "cell_type": "code",
   "execution_count": 29,
   "metadata": {},
   "outputs": [],
   "source": [
    "tp, fp, fn, tn = evaluation(data_evaluation, caracteristiquesImages, couleur, w1, w2)"
   ]
  },
  {
   "cell_type": "code",
   "execution_count": 30,
   "metadata": {},
   "outputs": [
    {
     "data": {
      "text/html": [
       "<div>\n",
       "<style scoped>\n",
       "    .dataframe tbody tr th:only-of-type {\n",
       "        vertical-align: middle;\n",
       "    }\n",
       "\n",
       "    .dataframe tbody tr th {\n",
       "        vertical-align: top;\n",
       "    }\n",
       "\n",
       "    .dataframe thead th {\n",
       "        text-align: right;\n",
       "    }\n",
       "</style>\n",
       "<table border=\"1\" class=\"dataframe\">\n",
       "  <thead>\n",
       "    <tr style=\"text-align: right;\">\n",
       "      <th></th>\n",
       "      <th>Pertinent</th>\n",
       "      <th>Non pertinent</th>\n",
       "    </tr>\n",
       "  </thead>\n",
       "  <tbody>\n",
       "    <tr>\n",
       "      <th>Retrouvé</th>\n",
       "      <td>1234</td>\n",
       "      <td>266</td>\n",
       "    </tr>\n",
       "    <tr>\n",
       "      <th>Non retrouvé</th>\n",
       "      <td>5966</td>\n",
       "      <td>712534</td>\n",
       "    </tr>\n",
       "  </tbody>\n",
       "</table>\n",
       "</div>"
      ],
      "text/plain": [
       "              Pertinent  Non pertinent\n",
       "Retrouvé           1234            266\n",
       "Non retrouvé       5966         712534"
      ]
     },
     "execution_count": 30,
     "metadata": {},
     "output_type": "execute_result"
    }
   ],
   "source": [
    "# Matrice de confusion\n",
    "df = pd.DataFrame([[tp, fp], [fn, tn]], index=['Retrouvé', 'Non retrouvé'], columns=['Pertinent', 'Non pertinent'])\n",
    "\n",
    "df"
   ]
  },
  {
   "cell_type": "code",
   "execution_count": 31,
   "metadata": {},
   "outputs": [
    {
     "data": {
      "text/markdown": [
       "<span style='color:blue'><font size='4'>**Précision : 82.27%**</font></span>"
      ],
      "text/plain": [
       "<IPython.core.display.Markdown object>"
      ]
     },
     "metadata": {},
     "output_type": "display_data"
    },
    {
     "data": {
      "text/markdown": [
       "<span style='color:blue'><font size='4'>**Rappel : 17.14%**</font></span>"
      ],
      "text/plain": [
       "<IPython.core.display.Markdown object>"
      ]
     },
     "metadata": {},
     "output_type": "display_data"
    },
    {
     "data": {
      "text/markdown": [
       "<span style='color:blue'><font size='4'>**Score F : 28.37%**</font></span>"
      ],
      "text/plain": [
       "<IPython.core.display.Markdown object>"
      ]
     },
     "metadata": {},
     "output_type": "display_data"
    }
   ],
   "source": [
    "precision = tp/(tp+fp) # On calcule la précision\n",
    "rappel = tp/(tp+fn) # On calcule le rappel\n",
    "F = (2*precision*rappel)/(precision+rappel)\n",
    "\n",
    "printmd(\"**Précision : {}%**\".format(round(precision * 100, 2)), color=\"blue\", font_size=4)\n",
    "printmd(\"**Rappel : {}%**\".format(round(rappel * 100, 2)), color=\"blue\", font_size=4)\n",
    "printmd(\"**Score F : {}%**\".format(round(F * 100, 2)), color=\"blue\", font_size=4)"
   ]
  },
  {
   "cell_type": "markdown",
   "metadata": {},
   "source": [
    "### 1.2. Evaluation du temps de recherche\n",
    "\n",
    "Ici, nous effectuons 100 requetes de recherche et nous calculons la moyenne du temps pour une requette"
   ]
  },
  {
   "cell_type": "code",
   "execution_count": 32,
   "metadata": {},
   "outputs": [
    {
     "data": {
      "text/markdown": [
       "<span style='color:blue'><font size='4'>**Le temps d'exécution d'une requette est en moyenne de : 0.223 seconde**</font></span>"
      ],
      "text/plain": [
       "<IPython.core.display.Markdown object>"
      ]
     },
     "metadata": {},
     "output_type": "display_data"
    }
   ],
   "source": [
    "requete = '''\n",
    "resultats = recherche(image_name, caracteristiquesImages, HIST_SIZE, HIST_RANGE, couleur, w1, w2)\n",
    "'''\n",
    "result = np.mean(timeit.repeat (requete, globals=globals(), repeat = 100, number = 1))\n",
    "printmd(\"**Le temps d'exécution d'une requette est en moyenne de : {} seconde**\".format(round(np.mean(result), 3)), color=\"blue\", font_size=4)"
   ]
  },
  {
   "cell_type": "markdown",
   "metadata": {},
   "source": [
    "### 1.3. Affichage des K premiers résultats de recherche pour une image d'entrée\n",
    "\n",
    "Ici, nous affichons les résultats de recherche pour unr image d'entrée"
   ]
  },
  {
   "cell_type": "code",
   "execution_count": 33,
   "metadata": {},
   "outputs": [
    {
     "data": {
      "text/markdown": [
       "<span style='color:blue'><font size='3'>**Exemple :**</font></span>"
      ],
      "text/plain": [
       "<IPython.core.display.Markdown object>"
      ]
     },
     "metadata": {},
     "output_type": "display_data"
    },
    {
     "data": {
      "text/markdown": [
       "<span style='color:None'><font size='3'>**&emsp; &emsp; > search : obj10__0**</font></span>"
      ],
      "text/plain": [
       "<IPython.core.display.Markdown object>"
      ]
     },
     "metadata": {},
     "output_type": "display_data"
    },
    {
     "name": "stdout",
     "output_type": "stream",
     "text": [
      "\n"
     ]
    },
    {
     "data": {
      "text/markdown": [
       "<span style='color:blue'><font size='3'>**Résultats de recherche (K=15) :**</font></span>"
      ],
      "text/plain": [
       "<IPython.core.display.Markdown object>"
      ]
     },
     "metadata": {},
     "output_type": "display_data"
    },
    {
     "data": {
      "text/markdown": [
       "<span style='color:None'><font size='3'>**&emsp; &emsp; Image &emsp; &emsp; &emsp; &emsp; &emsp; &emsp; &emsp; &emsp; &emsp; Distance**</font></span>"
      ],
      "text/plain": [
       "<IPython.core.display.Markdown object>"
      ]
     },
     "metadata": {},
     "output_type": "display_data"
    },
    {
     "name": "stdout",
     "output_type": "stream",
     "text": [
      "\t + obj10__0 \t \t 0.0\n",
      "\t + obj10__355 \t \t 0.01229800637105443\n",
      "\t + obj10__5 \t \t 0.012680320206077383\n",
      "\t + obj10__350 \t \t 0.015333362094442995\n",
      "\t + obj10__15 \t \t 0.017970290510048566\n",
      "\t + obj10__20 \t \t 0.027075430617877285\n",
      "\t + obj10__345 \t \t 0.029711066024711408\n",
      "\t + obj10__10 \t \t 0.029897639989390244\n",
      "\t + obj10__25 \t \t 0.03603853506442478\n",
      "\t + obj10__30 \t \t 0.04123406289180456\n",
      "\t + obj10__340 \t \t 0.04347927487726125\n",
      "\t + obj10__335 \t \t 0.06346146852272956\n",
      "\t + obj10__35 \t \t 0.07409928513758919\n",
      "\t + obj10__330 \t \t 0.07843831135089567\n",
      "\t + obj10__325 \t \t 0.11413448140123804\n"
     ]
    }
   ],
   "source": [
    "resultats = recherche(image_name, caracteristiquesImages, HIST_SIZE, HIST_RANGE, couleur, w1, w2)\n",
    "\n",
    "printmd(\"**Exemple :**\", color=\"blue\")\n",
    "\n",
    "printmd(\"**&emsp; &emsp; > search : {}**\".format(image_name.split('.')[0]))\n",
    "print()\n",
    "\n",
    "printmd(\"**Résultats de recherche (K={}) :**\".format(K), color=\"blue\")\n",
    "printmd(\"**&emsp; &emsp; Image &emsp; &emsp; &emsp; &emsp; &emsp; &emsp; &emsp; &emsp; &emsp; Distance**\".format(image_name.split('.')[0]))\n",
    "\n",
    "for i in range(K):\n",
    "    print(\"\\t + {} \\t \\t {}\".format(caracteristiquesImages[resultats[i][0]][0], resultats[i][1]))"
   ]
  },
  {
   "cell_type": "markdown",
   "metadata": {},
   "source": [
    "## 2. Evaluation avec indexation basée sur un arbre KD-Tree\n",
    "\n",
    "Ici, nous allons créer un arbre KD-Tree dans lequel nous allons indexer chacune des images de la base. Pour effectuer la recherche, nous allons :\n",
    "\n",
    "- Chercher les 100 images les plus proches de l'image d'entrée\n",
    "- Calculer la distance pondérée des 100 images par rapport à l'image d'entrée\n",
    "- Chercher les K images les plus proches"
   ]
  },
  {
   "cell_type": "markdown",
   "metadata": {},
   "source": [
    "### 2.1. Création d'un arbre KD-Tree\n",
    "\n",
    "Nous créons un arbre KD-Tree. Pour cela, nous applatissons les histogrammes et les moments de Hu dans une même tableau afin d'avoir un seul vecteur caractéristique pour chaque image"
   ]
  },
  {
   "cell_type": "code",
   "execution_count": 34,
   "metadata": {},
   "outputs": [],
   "source": [
    "if couleur == \"RGB\":\n",
    "    liste_caracteristique = [np.concatenate((carac[1][0], carac[2]), axis=None) for carac in caracteristiquesImages]\n",
    "elif couleur == \"Lab\":\n",
    "    liste_caracteristique = [np.concatenate((carac[1][1], carac[2]), axis=None) for carac in caracteristiquesImages]\n",
    "else:\n",
    "    liste_caracteristique = [np.concatenate((carac[1][2], carac[2]), axis=None) for carac in caracteristiquesImages]\n",
    "liste_caracteristique = np.array(liste_caracteristique)\n",
    "\n",
    "kd_tree = KDTree(liste_caracteristique, leaf_size=2)"
   ]
  },
  {
   "cell_type": "markdown",
   "metadata": {},
   "source": [
    "### 2.2. Evaluation de la perfomance de recherche\n",
    "\n",
    "Nous utilisation les 100 images d'évaluation créé dans les paramètres généraux"
   ]
  },
  {
   "cell_type": "code",
   "execution_count": 35,
   "metadata": {},
   "outputs": [],
   "source": [
    "tp_2, fp_2, fn_2, tn_2 = evaluation_arbre(data_evaluation, caracteristiquesImages, couleur, w1, w2, kd_tree)"
   ]
  },
  {
   "cell_type": "code",
   "execution_count": 36,
   "metadata": {},
   "outputs": [
    {
     "data": {
      "text/html": [
       "<div>\n",
       "<style scoped>\n",
       "    .dataframe tbody tr th:only-of-type {\n",
       "        vertical-align: middle;\n",
       "    }\n",
       "\n",
       "    .dataframe tbody tr th {\n",
       "        vertical-align: top;\n",
       "    }\n",
       "\n",
       "    .dataframe thead th {\n",
       "        text-align: right;\n",
       "    }\n",
       "</style>\n",
       "<table border=\"1\" class=\"dataframe\">\n",
       "  <thead>\n",
       "    <tr style=\"text-align: right;\">\n",
       "      <th></th>\n",
       "      <th>Pertinent</th>\n",
       "      <th>Non pertinent</th>\n",
       "    </tr>\n",
       "  </thead>\n",
       "  <tbody>\n",
       "    <tr>\n",
       "      <th>Retrouvé</th>\n",
       "      <td>1125</td>\n",
       "      <td>375</td>\n",
       "    </tr>\n",
       "    <tr>\n",
       "      <th>Non retrouvé</th>\n",
       "      <td>6075</td>\n",
       "      <td>712425</td>\n",
       "    </tr>\n",
       "  </tbody>\n",
       "</table>\n",
       "</div>"
      ],
      "text/plain": [
       "              Pertinent  Non pertinent\n",
       "Retrouvé           1125            375\n",
       "Non retrouvé       6075         712425"
      ]
     },
     "execution_count": 36,
     "metadata": {},
     "output_type": "execute_result"
    }
   ],
   "source": [
    "# Matrice de confusion\n",
    "df = pd.DataFrame([[tp_2, fp_2], [fn_2, tn_2]], index=['Retrouvé', 'Non retrouvé'], columns=['Pertinent', 'Non pertinent'])\n",
    "\n",
    "df"
   ]
  },
  {
   "cell_type": "code",
   "execution_count": 37,
   "metadata": {},
   "outputs": [
    {
     "data": {
      "text/markdown": [
       "<span style='color:blue'><font size='4'>**Précision : 75.0%**</font></span>"
      ],
      "text/plain": [
       "<IPython.core.display.Markdown object>"
      ]
     },
     "metadata": {},
     "output_type": "display_data"
    },
    {
     "data": {
      "text/markdown": [
       "<span style='color:blue'><font size='4'>**Rappel : 15.62%**</font></span>"
      ],
      "text/plain": [
       "<IPython.core.display.Markdown object>"
      ]
     },
     "metadata": {},
     "output_type": "display_data"
    },
    {
     "data": {
      "text/markdown": [
       "<span style='color:blue'><font size='4'>**Score F : 25.86%**</font></span>"
      ],
      "text/plain": [
       "<IPython.core.display.Markdown object>"
      ]
     },
     "metadata": {},
     "output_type": "display_data"
    }
   ],
   "source": [
    "precision_2 = tp_2/(tp_2+fp_2) # On calcule la précision\n",
    "rappel_2 = tp_2/(tp_2+fn_2) # On calcule le rappel\n",
    "F_2 = (2*precision_2*rappel_2)/(precision_2+rappel_2)\n",
    "\n",
    "printmd(\"**Précision : {}%**\".format(round(precision_2 * 100, 2)), color=\"blue\", font_size=4)\n",
    "printmd(\"**Rappel : {}%**\".format(round(rappel_2 * 100, 2)), color=\"blue\", font_size=4)\n",
    "printmd(\"**Score F : {}%**\".format(round(F_2 * 100, 2)), color=\"blue\", font_size=4)"
   ]
  },
  {
   "cell_type": "markdown",
   "metadata": {},
   "source": [
    "### 2.3. Evaluation du temps de recherche\n",
    "\n",
    "Ici, nous effectuons 100 requetes de recherche et nous calculons la moyenne du temps pour une requette"
   ]
  },
  {
   "cell_type": "code",
   "execution_count": 38,
   "metadata": {},
   "outputs": [
    {
     "data": {
      "text/markdown": [
       "<span style='color:blue'><font size='4'>**Le temps d'exécution d'une requette est en moyenne de : 0.006 seconde**</font></span>"
      ],
      "text/plain": [
       "<IPython.core.display.Markdown object>"
      ]
     },
     "metadata": {},
     "output_type": "display_data"
    }
   ],
   "source": [
    "requete = '''\n",
    "resultats = recherche_arbre(image_name, caracteristiquesImages, HIST_SIZE, HIST_RANGE, couleur, w1, w2, kd_tree)\n",
    "'''\n",
    "result_2 = np.mean(timeit.repeat (requete, globals=globals(), repeat = 100, number = 1))\n",
    "printmd(\"**Le temps d'exécution d'une requette est en moyenne de : {} seconde**\".format(round(np.mean(result_2), 3)), color=\"blue\", font_size=4)"
   ]
  },
  {
   "cell_type": "markdown",
   "metadata": {},
   "source": [
    "### 2.4. Affichage des K premiers résultats de recherche pour une image d'entrée\n",
    "\n",
    "Ici, nous affichons les résultats de recherche pour unr image d'entrée"
   ]
  },
  {
   "cell_type": "code",
   "execution_count": 39,
   "metadata": {},
   "outputs": [
    {
     "data": {
      "text/markdown": [
       "<span style='color:blue'><font size='3'>**Exemple :**</font></span>"
      ],
      "text/plain": [
       "<IPython.core.display.Markdown object>"
      ]
     },
     "metadata": {},
     "output_type": "display_data"
    },
    {
     "data": {
      "text/markdown": [
       "<span style='color:None'><font size='3'>**&emsp; &emsp; > search : obj10__0**</font></span>"
      ],
      "text/plain": [
       "<IPython.core.display.Markdown object>"
      ]
     },
     "metadata": {},
     "output_type": "display_data"
    },
    {
     "name": "stdout",
     "output_type": "stream",
     "text": [
      "\n"
     ]
    },
    {
     "data": {
      "text/markdown": [
       "<span style='color:blue'><font size='3'>**Résultats de recherche (K=15) :**</font></span>"
      ],
      "text/plain": [
       "<IPython.core.display.Markdown object>"
      ]
     },
     "metadata": {},
     "output_type": "display_data"
    },
    {
     "data": {
      "text/markdown": [
       "<span style='color:None'><font size='3'>**&emsp; &emsp; Image &emsp; &emsp; &emsp; &emsp; &emsp; &emsp; &emsp; &emsp; &emsp; Distance**</font></span>"
      ],
      "text/plain": [
       "<IPython.core.display.Markdown object>"
      ]
     },
     "metadata": {},
     "output_type": "display_data"
    },
    {
     "name": "stdout",
     "output_type": "stream",
     "text": [
      "\t + obj10__0 \t \t 0.0\n",
      "\t + obj10__355 \t \t 0.01229800637105443\n",
      "\t + obj10__5 \t \t 0.012680320206077383\n",
      "\t + obj10__350 \t \t 0.015333362094442995\n",
      "\t + obj10__15 \t \t 0.017970290510048566\n",
      "\t + obj10__20 \t \t 0.027075430617877285\n",
      "\t + obj10__345 \t \t 0.029711066024711408\n",
      "\t + obj10__10 \t \t 0.029897639989390244\n",
      "\t + obj10__25 \t \t 0.03603853506442478\n",
      "\t + obj10__30 \t \t 0.04123406289180456\n",
      "\t + obj10__340 \t \t 0.04347927487726125\n",
      "\t + obj10__335 \t \t 0.06346146852272956\n",
      "\t + obj10__35 \t \t 0.07409928513758919\n",
      "\t + obj10__330 \t \t 0.07843831135089567\n",
      "\t + obj10__325 \t \t 0.11413448140123804\n"
     ]
    }
   ],
   "source": [
    "resultats = recherche_arbre(image_name, caracteristiquesImages, HIST_SIZE, HIST_RANGE, couleur, w1, w2, kd_tree)\n",
    "\n",
    "printmd(\"**Exemple :**\", color=\"blue\")\n",
    "\n",
    "printmd(\"**&emsp; &emsp; > search : {}**\".format(image_name.split('.')[0]))\n",
    "print()\n",
    "\n",
    "printmd(\"**Résultats de recherche (K={}) :**\".format(K), color=\"blue\")\n",
    "printmd(\"**&emsp; &emsp; Image &emsp; &emsp; &emsp; &emsp; &emsp; &emsp; &emsp; &emsp; &emsp; Distance**\".format(image_name.split('.')[0]))\n",
    "\n",
    "for i in range(K):\n",
    "    print(\"\\t + {} \\t \\t {}\".format(caracteristiquesImages[resultats[i][0]][0], resultats[i][1]))"
   ]
  },
  {
   "cell_type": "markdown",
   "metadata": {},
   "source": [
    "## 3. Evaluation avec indexation basée sur K-means\n",
    "\n",
    "Ici, nous allons utiliser K-Means pour indexer les images de la base. Nous alons créer un modèle K-Means qui nous servira à regrouper les images de la base en cluster. Pour effectuer une recherche à partie d'une image d'entrée, nous allons :\n",
    "\n",
    "- Chercher à quel cluster appartient l'image d'entrée\n",
    "- Recupérer les images de la base situé dans le même cluster que l'image d'enrée\n",
    "- Calculer la distance pondérée des images récupérer par rapport à l'image d'entrée\n",
    "- Chercher les K images les plus proches"
   ]
  },
  {
   "cell_type": "markdown",
   "metadata": {},
   "source": [
    "### 3.1. détermination du nombre de cluster idéal avec la méthode Elbow (méthode du coude)"
   ]
  },
  {
   "cell_type": "code",
   "execution_count": 40,
   "metadata": {},
   "outputs": [],
   "source": [
    "if couleur == \"RGB\":\n",
    "    liste_caracteristique = [np.concatenate((carac[1][0], carac[2]), axis=None) for carac in caracteristiquesImages]\n",
    "elif couleur == \"Lab\":\n",
    "    liste_caracteristique = [np.concatenate((carac[1][1], carac[2]), axis=None) for carac in caracteristiquesImages]\n",
    "else:\n",
    "    liste_caracteristique = [np.concatenate((carac[1][2], carac[2]), axis=None) for carac in caracteristiquesImages]\n",
    "liste_caracteristique = np.array(liste_caracteristique)"
   ]
  },
  {
   "cell_type": "code",
   "execution_count": 41,
   "metadata": {},
   "outputs": [],
   "source": [
    "inertia = []\n",
    "k_range = range(1, 20)\n",
    "for k in k_range:\n",
    "    model = KMeans(n_clusters=k).fit(liste_caracteristique)\n",
    "    inertia.append(model.inertia_)"
   ]
  },
  {
   "cell_type": "code",
   "execution_count": 42,
   "metadata": {},
   "outputs": [
    {
     "data": {
      "image/png": "[encoded data removed]",
      "text/plain": [
       "<Figure size 432x288 with 1 Axes>"
      ]
     },
     "metadata": {
      "needs_background": "light"
     },
     "output_type": "display_data"
    }
   ],
   "source": [
    "plt.plot(k_range, inertia)\n",
    "plt.xlabel('Nombre de clusters')\n",
    "plt.ylabel('Coût du model')\n",
    "plt.show()"
   ]
  },
  {
   "cell_type": "markdown",
   "metadata": {},
   "source": [
    "### 3.2. Entrainement de K-Means"
   ]
  },
  {
   "cell_type": "code",
   "execution_count": 43,
   "metadata": {},
   "outputs": [
    {
     "data": {
      "text/plain": [
       "KMeans(n_clusters=5)"
      ]
     },
     "execution_count": 43,
     "metadata": {},
     "output_type": "execute_result"
    }
   ],
   "source": [
    "# Nous pouvons donc utilisé 5 clusters\n",
    "n_clust = 5\n",
    "\n",
    "# Clustering par K-means\n",
    "km = KMeans(n_clusters=n_clust)\n",
    "km.fit(liste_caracteristique)"
   ]
  },
  {
   "cell_type": "markdown",
   "metadata": {},
   "source": [
    "### 3.3. Prédiction du cluster de chaque image de la base"
   ]
  },
  {
   "cell_type": "code",
   "execution_count": 44,
   "metadata": {},
   "outputs": [],
   "source": [
    "clusters = km.predict(liste_caracteristique)"
   ]
  },
  {
   "cell_type": "markdown",
   "metadata": {},
   "source": [
    "### 3.4. Evaluation de la perfomance de recherche\n",
    "\n",
    "Nous utilisation les 100 images d'évaluation créé dans les paramètres généraux"
   ]
  },
  {
   "cell_type": "code",
   "execution_count": 45,
   "metadata": {},
   "outputs": [],
   "source": [
    "tp_3, fp_3, fn_3, tn_3 = evaluation_kmeans(data_evaluation, caracteristiquesImages, couleur, w1, w2, km, clusters)"
   ]
  },
  {
   "cell_type": "code",
   "execution_count": 46,
   "metadata": {},
   "outputs": [
    {
     "data": {
      "text/html": [
       "<div>\n",
       "<style scoped>\n",
       "    .dataframe tbody tr th:only-of-type {\n",
       "        vertical-align: middle;\n",
       "    }\n",
       "\n",
       "    .dataframe tbody tr th {\n",
       "        vertical-align: top;\n",
       "    }\n",
       "\n",
       "    .dataframe thead th {\n",
       "        text-align: right;\n",
       "    }\n",
       "</style>\n",
       "<table border=\"1\" class=\"dataframe\">\n",
       "  <thead>\n",
       "    <tr style=\"text-align: right;\">\n",
       "      <th></th>\n",
       "      <th>Pertinent</th>\n",
       "      <th>Non pertinent</th>\n",
       "    </tr>\n",
       "  </thead>\n",
       "  <tbody>\n",
       "    <tr>\n",
       "      <th>Retrouvé</th>\n",
       "      <td>1234</td>\n",
       "      <td>266</td>\n",
       "    </tr>\n",
       "    <tr>\n",
       "      <th>Non retrouvé</th>\n",
       "      <td>5966</td>\n",
       "      <td>712534</td>\n",
       "    </tr>\n",
       "  </tbody>\n",
       "</table>\n",
       "</div>"
      ],
      "text/plain": [
       "              Pertinent  Non pertinent\n",
       "Retrouvé           1234            266\n",
       "Non retrouvé       5966         712534"
      ]
     },
     "execution_count": 46,
     "metadata": {},
     "output_type": "execute_result"
    }
   ],
   "source": [
    "# Matrice de confusion\n",
    "df = pd.DataFrame([[tp_3, fp_3], [fn_3, tn_3]], index=['Retrouvé', 'Non retrouvé'], columns=['Pertinent', 'Non pertinent'])\n",
    "\n",
    "df"
   ]
  },
  {
   "cell_type": "code",
   "execution_count": 47,
   "metadata": {},
   "outputs": [
    {
     "data": {
      "text/markdown": [
       "<span style='color:blue'><font size='4'>**Précision : 82.27%**</font></span>"
      ],
      "text/plain": [
       "<IPython.core.display.Markdown object>"
      ]
     },
     "metadata": {},
     "output_type": "display_data"
    },
    {
     "data": {
      "text/markdown": [
       "<span style='color:blue'><font size='4'>**Rappel : 17.14%**</font></span>"
      ],
      "text/plain": [
       "<IPython.core.display.Markdown object>"
      ]
     },
     "metadata": {},
     "output_type": "display_data"
    },
    {
     "data": {
      "text/markdown": [
       "<span style='color:blue'><font size='4'>**Score F : 28.37%**</font></span>"
      ],
      "text/plain": [
       "<IPython.core.display.Markdown object>"
      ]
     },
     "metadata": {},
     "output_type": "display_data"
    }
   ],
   "source": [
    "precision_3 = tp_3/(tp_3+fp_3) # On calcule la précision\n",
    "rappel_3 = tp_3/(tp_3+fn_3) # On calcule le rappel\n",
    "F_3 = (2*precision_3*rappel_3)/(precision_3+rappel_3)\n",
    "\n",
    "printmd(\"**Précision : {}%**\".format(round(precision_3 * 100, 2)), color=\"blue\", font_size=4)\n",
    "printmd(\"**Rappel : {}%**\".format(round(rappel_3 * 100, 2)), color=\"blue\", font_size=4)\n",
    "printmd(\"**Score F : {}%**\".format(round(F_3 * 100, 2)), color=\"blue\", font_size=4)"
   ]
  },
  {
   "cell_type": "markdown",
   "metadata": {},
   "source": [
    "### 3.5. Evaluation du temps de recherche\n",
    "\n",
    "Ici, nous effectuons 100 requetes de recherche et nous calculons la moyenne du temps pour une requette"
   ]
  },
  {
   "cell_type": "code",
   "execution_count": 48,
   "metadata": {},
   "outputs": [
    {
     "data": {
      "text/markdown": [
       "<span style='color:blue'><font size='4'>**Le temps d'exécution d'une requette est en moyenne de : 0.069 seconde**</font></span>"
      ],
      "text/plain": [
       "<IPython.core.display.Markdown object>"
      ]
     },
     "metadata": {},
     "output_type": "display_data"
    }
   ],
   "source": [
    "requete = '''\n",
    "resultats = recherche_kmeans(image_name, caracteristiquesImages, HIST_SIZE, HIST_RANGE, couleur, w1, w2, km, clusters)\n",
    "'''\n",
    "result_3 = np.mean(timeit.repeat (requete, globals=globals(), repeat = 100, number = 1))\n",
    "printmd(\"**Le temps d'exécution d'une requette est en moyenne de : {} seconde**\".format(round(np.mean(result_3), 3)), color=\"blue\", font_size=4)"
   ]
  },
  {
   "cell_type": "markdown",
   "metadata": {},
   "source": [
    "### 3.6. Affichage des K premiers résultats de recherche pour une image d'entrée\n",
    "\n",
    "Ici, nous affichons les résultats de recherche pour unr image d'entrée"
   ]
  },
  {
   "cell_type": "code",
   "execution_count": 49,
   "metadata": {},
   "outputs": [
    {
     "data": {
      "text/markdown": [
       "<span style='color:blue'><font size='3'>**Exemple :**</font></span>"
      ],
      "text/plain": [
       "<IPython.core.display.Markdown object>"
      ]
     },
     "metadata": {},
     "output_type": "display_data"
    },
    {
     "data": {
      "text/markdown": [
       "<span style='color:None'><font size='3'>**&emsp; &emsp; > search : obj10__0**</font></span>"
      ],
      "text/plain": [
       "<IPython.core.display.Markdown object>"
      ]
     },
     "metadata": {},
     "output_type": "display_data"
    },
    {
     "name": "stdout",
     "output_type": "stream",
     "text": [
      "\n"
     ]
    },
    {
     "data": {
      "text/markdown": [
       "<span style='color:blue'><font size='3'>**Résultats de recherche (K=15) :**</font></span>"
      ],
      "text/plain": [
       "<IPython.core.display.Markdown object>"
      ]
     },
     "metadata": {},
     "output_type": "display_data"
    },
    {
     "data": {
      "text/markdown": [
       "<span style='color:None'><font size='3'>**&emsp; &emsp; Image &emsp; &emsp; &emsp; &emsp; &emsp; &emsp; &emsp; &emsp; &emsp; Distance**</font></span>"
      ],
      "text/plain": [
       "<IPython.core.display.Markdown object>"
      ]
     },
     "metadata": {},
     "output_type": "display_data"
    },
    {
     "name": "stdout",
     "output_type": "stream",
     "text": [
      "\t + obj10__0 \t \t 0.0\n",
      "\t + obj10__355 \t \t 0.01229800637105443\n",
      "\t + obj10__5 \t \t 0.012680320206077383\n",
      "\t + obj10__350 \t \t 0.015333362094442995\n",
      "\t + obj10__15 \t \t 0.017970290510048566\n",
      "\t + obj10__20 \t \t 0.027075430617877285\n",
      "\t + obj10__345 \t \t 0.029711066024711408\n",
      "\t + obj10__10 \t \t 0.029897639989390244\n",
      "\t + obj10__25 \t \t 0.03603853506442478\n",
      "\t + obj10__30 \t \t 0.04123406289180456\n",
      "\t + obj10__340 \t \t 0.04347927487726125\n",
      "\t + obj10__335 \t \t 0.06346146852272956\n",
      "\t + obj10__35 \t \t 0.07409928513758919\n",
      "\t + obj10__330 \t \t 0.07843831135089567\n",
      "\t + obj10__325 \t \t 0.11413448140123804\n"
     ]
    }
   ],
   "source": [
    "resultats = recherche_kmeans(image_name, caracteristiquesImages, HIST_SIZE, HIST_RANGE, couleur, w1, w2, km, clusters)\n",
    "\n",
    "printmd(\"**Exemple :**\", color=\"blue\")\n",
    "\n",
    "printmd(\"**&emsp; &emsp; > search : {}**\".format(image_name.split('.')[0]))\n",
    "print()\n",
    "\n",
    "printmd(\"**Résultats de recherche (K={}) :**\".format(K), color=\"blue\")\n",
    "printmd(\"**&emsp; &emsp; Image &emsp; &emsp; &emsp; &emsp; &emsp; &emsp; &emsp; &emsp; &emsp; Distance**\".format(image_name.split('.')[0]))\n",
    "\n",
    "for i in range(K):\n",
    "    print(\"\\t + {} \\t \\t {}\".format(caracteristiquesImages[resultats[i][0]][0], resultats[i][1]))"
   ]
  },
  {
   "cell_type": "markdown",
   "metadata": {},
   "source": [
    "## 4. Evaluation avec indexation basée sur le hachage\n",
    "\n",
    "Ici, nous allons créer un hachage LSH dans lequel nous allons indexer chacune des images de la base. Pour effectuer la recherche, nous allons :\n",
    "\n",
    "- Chercher les 100 images les plus proches de l'image d'entrée\n",
    "- Calculer la distance pondérée des 100 images par rapport à l'image d'entrée\n",
    "- Chercher les K images les plus proches"
   ]
  },
  {
   "cell_type": "markdown",
   "metadata": {},
   "source": [
    "### 4.1. Création de LSH"
   ]
  },
  {
   "cell_type": "code",
   "execution_count": 50,
   "metadata": {},
   "outputs": [],
   "source": [
    "if couleur == \"RGB\":\n",
    "    liste_caracteristique = [np.concatenate((carac[1][0], carac[2]), axis=None) for carac in caracteristiquesImages]\n",
    "elif couleur == \"Lab\":\n",
    "    liste_caracteristique = [np.concatenate((carac[1][1], carac[2]), axis=None) for carac in caracteristiquesImages]\n",
    "else:\n",
    "    liste_caracteristique = [np.concatenate((carac[1][2], carac[2]), axis=None) for carac in caracteristiquesImages]\n",
    "liste_caracteristique = csr_matrix(liste_caracteristique)"
   ]
  },
  {
   "cell_type": "code",
   "execution_count": 51,
   "metadata": {},
   "outputs": [],
   "source": [
    "# One class number for each input point\n",
    "y = [i for i in range(liste_caracteristique.shape[0])]"
   ]
  },
  {
   "cell_type": "code",
   "execution_count": 70,
   "metadata": {},
   "outputs": [],
   "source": [
    "lsh = LSH(100, liste_caracteristique.shape[1], num_hashtables=1, storage_config={\"dict\":None})\n",
    "\n",
    "for ix in range(liste_caracteristique.shape[0]):\n",
    "    x = liste_caracteristique.getrow(ix)\n",
    "    c = y[ix]\n",
    "    lsh.index(x, extra_data=c)"
   ]
  },
  {
   "cell_type": "markdown",
   "metadata": {},
   "source": [
    "### 4.2. Evaluation de la perfomance de recherche\n",
    "\n",
    "Nous utilisation les 100 images d'évaluation créé dans les paramètres généraux"
   ]
  },
  {
   "cell_type": "code",
   "execution_count": 71,
   "metadata": {},
   "outputs": [],
   "source": [
    "tp_4, fp_4, fn_4, tn_4 = evaluation_lsh(data_evaluation, caracteristiquesImages, couleur, w1, w2, lsh)"
   ]
  },
  {
   "cell_type": "code",
   "execution_count": 72,
   "metadata": {},
   "outputs": [
    {
     "data": {
      "text/html": [
       "<div>\n",
       "<style scoped>\n",
       "    .dataframe tbody tr th:only-of-type {\n",
       "        vertical-align: middle;\n",
       "    }\n",
       "\n",
       "    .dataframe tbody tr th {\n",
       "        vertical-align: top;\n",
       "    }\n",
       "\n",
       "    .dataframe thead th {\n",
       "        text-align: right;\n",
       "    }\n",
       "</style>\n",
       "<table border=\"1\" class=\"dataframe\">\n",
       "  <thead>\n",
       "    <tr style=\"text-align: right;\">\n",
       "      <th></th>\n",
       "      <th>Pertinent</th>\n",
       "      <th>Non pertinent</th>\n",
       "    </tr>\n",
       "  </thead>\n",
       "  <tbody>\n",
       "    <tr>\n",
       "      <th>Retrouvé</th>\n",
       "      <td>1105</td>\n",
       "      <td>389</td>\n",
       "    </tr>\n",
       "    <tr>\n",
       "      <th>Non retrouvé</th>\n",
       "      <td>6095</td>\n",
       "      <td>712411</td>\n",
       "    </tr>\n",
       "  </tbody>\n",
       "</table>\n",
       "</div>"
      ],
      "text/plain": [
       "              Pertinent  Non pertinent\n",
       "Retrouvé           1105            389\n",
       "Non retrouvé       6095         712411"
      ]
     },
     "execution_count": 72,
     "metadata": {},
     "output_type": "execute_result"
    }
   ],
   "source": [
    "# Matrice de confusion\n",
    "df = pd.DataFrame([[tp_4, fp_4], [fn_4, tn_4]], index=['Retrouvé', 'Non retrouvé'], columns=['Pertinent', 'Non pertinent'])\n",
    "\n",
    "df"
   ]
  },
  {
   "cell_type": "code",
   "execution_count": 73,
   "metadata": {},
   "outputs": [
    {
     "data": {
      "text/markdown": [
       "<span style='color:blue'><font size='4'>**Précision : 73.96%**</font></span>"
      ],
      "text/plain": [
       "<IPython.core.display.Markdown object>"
      ]
     },
     "metadata": {},
     "output_type": "display_data"
    },
    {
     "data": {
      "text/markdown": [
       "<span style='color:blue'><font size='4'>**Rappel : 15.35%**</font></span>"
      ],
      "text/plain": [
       "<IPython.core.display.Markdown object>"
      ]
     },
     "metadata": {},
     "output_type": "display_data"
    },
    {
     "data": {
      "text/markdown": [
       "<span style='color:blue'><font size='4'>**Score F : 25.42%**</font></span>"
      ],
      "text/plain": [
       "<IPython.core.display.Markdown object>"
      ]
     },
     "metadata": {},
     "output_type": "display_data"
    }
   ],
   "source": [
    "precision_4 = tp_4/(tp_4+fp_4) # On calcule la précision\n",
    "rappel_4 = tp_4/(tp_4+fn_4) # On calcule le rappel\n",
    "F_4 = (2*precision_4*rappel_4)/(precision_4+rappel_4)\n",
    "\n",
    "printmd(\"**Précision : {}%**\".format(round(precision_4 * 100, 2)), color=\"blue\", font_size=4)\n",
    "printmd(\"**Rappel : {}%**\".format(round(rappel_4 * 100, 2)), color=\"blue\", font_size=4)\n",
    "printmd(\"**Score F : {}%**\".format(round(F_4 * 100, 2)), color=\"blue\", font_size=4)"
   ]
  },
  {
   "cell_type": "markdown",
   "metadata": {},
   "source": [
    "### 4.3. Evaluation du temps de recherche\n",
    "\n",
    "Ici, nous effectuons 100 requetes de recherche et nous calculons la moyenne du temps pour une requette"
   ]
  },
  {
   "cell_type": "code",
   "execution_count": 69,
   "metadata": {},
   "outputs": [
    {
     "data": {
      "text/markdown": [
       "<span style='color:blue'><font size='4'>**Le temps d'exécution d'une requette est en moyenne de : 0.513 seconde**</font></span>"
      ],
      "text/plain": [
       "<IPython.core.display.Markdown object>"
      ]
     },
     "metadata": {},
     "output_type": "display_data"
    }
   ],
   "source": [
    "requete = '''\n",
    "resultats = recherche_lsh(image_name, caracteristiquesImages, HIST_SIZE, HIST_RANGE, couleur, w1, w2, lsh)\n",
    "'''\n",
    "result_4 = np.mean(timeit.repeat (requete, globals=globals(), repeat = 100, number = 1))\n",
    "printmd(\"**Le temps d'exécution d'une requette est en moyenne de : {} seconde**\".format(round(np.mean(result_4), 3)), color=\"blue\", font_size=4)"
   ]
  },
  {
   "cell_type": "markdown",
   "metadata": {},
   "source": [
    "### 4.4. Affichage des K premiers résultats de recherche pour une image d'entrée\n",
    "\n",
    "Ici, nous affichons les résultats de recherche pour unr image d'entrée"
   ]
  },
  {
   "cell_type": "code",
   "execution_count": 57,
   "metadata": {},
   "outputs": [
    {
     "data": {
      "text/markdown": [
       "<span style='color:blue'><font size='3'>**Exemple :**</font></span>"
      ],
      "text/plain": [
       "<IPython.core.display.Markdown object>"
      ]
     },
     "metadata": {},
     "output_type": "display_data"
    },
    {
     "data": {
      "text/markdown": [
       "<span style='color:None'><font size='3'>**&emsp; &emsp; > search : obj10__0**</font></span>"
      ],
      "text/plain": [
       "<IPython.core.display.Markdown object>"
      ]
     },
     "metadata": {},
     "output_type": "display_data"
    },
    {
     "name": "stdout",
     "output_type": "stream",
     "text": [
      "\n"
     ]
    },
    {
     "data": {
      "text/markdown": [
       "<span style='color:blue'><font size='3'>**Résultats de recherche (K=15) :**</font></span>"
      ],
      "text/plain": [
       "<IPython.core.display.Markdown object>"
      ]
     },
     "metadata": {},
     "output_type": "display_data"
    },
    {
     "data": {
      "text/markdown": [
       "<span style='color:None'><font size='3'>**&emsp; &emsp; Image &emsp; &emsp; &emsp; &emsp; &emsp; &emsp; &emsp; &emsp; &emsp; Distance**</font></span>"
      ],
      "text/plain": [
       "<IPython.core.display.Markdown object>"
      ]
     },
     "metadata": {},
     "output_type": "display_data"
    },
    {
     "name": "stdout",
     "output_type": "stream",
     "text": [
      "\t + obj10__0 \t \t 0.0\n",
      "\t + obj10__355 \t \t 0.01229800637105443\n",
      "\t + obj10__5 \t \t 0.012680320206077383\n",
      "\t + obj10__350 \t \t 0.015333362094442995\n",
      "\t + obj10__15 \t \t 0.017970290510048566\n",
      "\t + obj10__20 \t \t 0.027075430617877285\n",
      "\t + obj10__345 \t \t 0.029711066024711408\n",
      "\t + obj10__10 \t \t 0.029897639989390244\n",
      "\t + obj10__25 \t \t 0.03603853506442478\n",
      "\t + obj10__30 \t \t 0.04123406289180456\n",
      "\t + obj10__340 \t \t 0.04347927487726125\n",
      "\t + obj10__335 \t \t 0.06346146852272956\n",
      "\t + obj10__35 \t \t 0.07409928513758919\n",
      "\t + obj10__330 \t \t 0.07843831135089567\n",
      "\t + obj10__325 \t \t 0.11413448140123804\n"
     ]
    }
   ],
   "source": [
    "resultats = recherche_lsh(image_name, caracteristiquesImages, HIST_SIZE, HIST_RANGE, couleur, w1, w2, lsh)\n",
    "\n",
    "printmd(\"**Exemple :**\", color=\"blue\")\n",
    "\n",
    "printmd(\"**&emsp; &emsp; > search : {}**\".format(image_name.split('.')[0]))\n",
    "print()\n",
    "\n",
    "printmd(\"**Résultats de recherche (K={}) :**\".format(K), color=\"blue\")\n",
    "printmd(\"**&emsp; &emsp; Image &emsp; &emsp; &emsp; &emsp; &emsp; &emsp; &emsp; &emsp; &emsp; Distance**\".format(image_name.split('.')[0]))\n",
    "\n",
    "for i in range(K):\n",
    "    print(\"\\t + {} \\t \\t {}\".format(caracteristiquesImages[resultats[i][0]][0], resultats[i][1]))"
   ]
  },
  {
   "cell_type": "markdown",
   "metadata": {},
   "source": [
    "## <center>Fin partie IV</center>\n",
    "\n",
    "<br>\n",
    "<br>\n",
    "<br>\n",
    "\n",
    "# -----------------------------------------------------------------------------------------------------------\n",
    "\n",
    "<br>\n",
    "<br>\n",
    "<br>\n",
    "\n",
    "## <center>Début partie V</center>"
   ]
  },
  {
   "cell_type": "markdown",
   "metadata": {},
   "source": [
    "# V. Interprétation des résultats obtenus\n",
    "\n",
    "Notre objectif ici est de faire la comparaison des résultats obtenus dans la partie précédente et de faire des commentaires"
   ]
  },
  {
   "cell_type": "markdown",
   "metadata": {},
   "source": [
    "## 1. Comparaison des performances"
   ]
  },
  {
   "cell_type": "code",
   "execution_count": 58,
   "metadata": {},
   "outputs": [
    {
     "data": {
      "text/html": [
       "<div>\n",
       "<style scoped>\n",
       "    .dataframe tbody tr th:only-of-type {\n",
       "        vertical-align: middle;\n",
       "    }\n",
       "\n",
       "    .dataframe tbody tr th {\n",
       "        vertical-align: top;\n",
       "    }\n",
       "\n",
       "    .dataframe thead th {\n",
       "        text-align: right;\n",
       "    }\n",
       "</style>\n",
       "<table border=\"1\" class=\"dataframe\">\n",
       "  <thead>\n",
       "    <tr style=\"text-align: right;\">\n",
       "      <th></th>\n",
       "      <th>Sans indexation</th>\n",
       "      <th>Indexation KD-Tree</th>\n",
       "      <th>Indexation K-Means</th>\n",
       "      <th>Indexation LSH</th>\n",
       "    </tr>\n",
       "  </thead>\n",
       "  <tbody>\n",
       "    <tr>\n",
       "      <th>Précision (%)</th>\n",
       "      <td>82.27</td>\n",
       "      <td>75.00</td>\n",
       "      <td>82.27</td>\n",
       "      <td>74.93</td>\n",
       "    </tr>\n",
       "    <tr>\n",
       "      <th>Rappel (%)</th>\n",
       "      <td>17.14</td>\n",
       "      <td>15.62</td>\n",
       "      <td>17.14</td>\n",
       "      <td>15.61</td>\n",
       "    </tr>\n",
       "    <tr>\n",
       "      <th>Score F (%)</th>\n",
       "      <td>28.37</td>\n",
       "      <td>25.86</td>\n",
       "      <td>28.37</td>\n",
       "      <td>25.84</td>\n",
       "    </tr>\n",
       "  </tbody>\n",
       "</table>\n",
       "</div>"
      ],
      "text/plain": [
       "               Sans indexation  Indexation KD-Tree  Indexation K-Means  \\\n",
       "Précision (%)            82.27               75.00               82.27   \n",
       "Rappel (%)               17.14               15.62               17.14   \n",
       "Score F (%)              28.37               25.86               28.37   \n",
       "\n",
       "               Indexation LSH  \n",
       "Précision (%)           74.93  \n",
       "Rappel (%)              15.61  \n",
       "Score F (%)             25.84  "
      ]
     },
     "execution_count": 58,
     "metadata": {},
     "output_type": "execute_result"
    }
   ],
   "source": [
    "df = pd.DataFrame([[round(precision*100, 2), round(precision_2*100, 2), round(precision_3*100, 2), round(precision_4*100, 2)],\n",
    "                  [round(rappel*100, 2), round(rappel_2*100, 2), round(rappel_3*100, 2), round(rappel_4*100, 2)],\n",
    "                  [round(F*100, 2), round(F_2*100, 2), round(F_3*100, 2), round(F_4*100, 2)]], index=['Précision (%)', 'Rappel (%)', 'Score F (%)'], columns=['Sans indexation', 'Indexation KD-Tree', 'Indexation K-Means', 'Indexation LSH'])\n",
    "df.head()"
   ]
  },
  {
   "cell_type": "markdown",
   "metadata": {},
   "source": [
    "#### Comme nous pouvons le constater, la méthode sans indexation est la plus perfomante, car elle compare l'image d'entrée pour la recherche avec toutes les images de la base. Elle produit donc le meilleur résultat que l'on puisse avoir dans notre système.\n",
    "\n",
    "#### La méthode d'indexation qui donne la meilleure perfomance de recherche est celle avec le clustering K-Means. Elle produit des résultats identiques que la méthode n'utilisant aucune méthode d'indexation.\n",
    "\n",
    "#### La deuxième méthode d'indexation les plus éfficace est celle avec l'arbre KD-Tree qui est moins précide que K-Means. La pire méthode d'indexation est celle utilisant le hachage LSH."
   ]
  },
  {
   "cell_type": "markdown",
   "metadata": {},
   "source": [
    "## 2. Comparaisons des temps d'exécution"
   ]
  },
  {
   "cell_type": "code",
   "execution_count": 74,
   "metadata": {},
   "outputs": [
    {
     "data": {
      "text/html": [
       "<div>\n",
       "<style scoped>\n",
       "    .dataframe tbody tr th:only-of-type {\n",
       "        vertical-align: middle;\n",
       "    }\n",
       "\n",
       "    .dataframe tbody tr th {\n",
       "        vertical-align: top;\n",
       "    }\n",
       "\n",
       "    .dataframe thead th {\n",
       "        text-align: right;\n",
       "    }\n",
       "</style>\n",
       "<table border=\"1\" class=\"dataframe\">\n",
       "  <thead>\n",
       "    <tr style=\"text-align: right;\">\n",
       "      <th></th>\n",
       "      <th>Sans indexation</th>\n",
       "      <th>Indexation KD-Tree</th>\n",
       "      <th>Indexation K-Means</th>\n",
       "      <th>Indexation LSH</th>\n",
       "    </tr>\n",
       "  </thead>\n",
       "  <tbody>\n",
       "    <tr>\n",
       "      <th>Temps exécution (s)</th>\n",
       "      <td>0.223</td>\n",
       "      <td>0.006</td>\n",
       "      <td>0.069</td>\n",
       "      <td>0.513</td>\n",
       "    </tr>\n",
       "  </tbody>\n",
       "</table>\n",
       "</div>"
      ],
      "text/plain": [
       "                     Sans indexation  Indexation KD-Tree  Indexation K-Means  \\\n",
       "Temps exécution (s)            0.223               0.006               0.069   \n",
       "\n",
       "                     Indexation LSH  \n",
       "Temps exécution (s)           0.513  "
      ]
     },
     "execution_count": 74,
     "metadata": {},
     "output_type": "execute_result"
    }
   ],
   "source": [
    "df = pd.DataFrame([[round(result, 3), round(result_2, 3), round(result_3, 3), round(result_4, 3)]], index=['Temps exécution (s)'], columns=['Sans indexation', 'Indexation KD-Tree', 'Indexation K-Means', 'Indexation LSH'])\n",
    "df"
   ]
  },
  {
   "cell_type": "markdown",
   "metadata": {},
   "source": [
    "#### Comme nous pouvons le constater, la méthode avec LSH est la plus lente\n",
    "\n",
    "#### La méthode d'indexation la plus rapide est celle utilisant l'arbre KD-Tree (0.005 seconde). Elle est presque 10 fois plus rapide que les autres méthodes d'indexation"
   ]
  },
  {
   "cell_type": "markdown",
   "metadata": {},
   "source": [
    "## 3. Conclusion"
   ]
  },
  {
   "cell_type": "markdown",
   "metadata": {},
   "source": [
    "#### La méthode d'indexation la plus rapide est KD-Tree, mais elle n'est pas la plus perfomante en terme de perfomance. Cependant, la méthode basée sur K-Means est la plus perfomante, mais elle est beaucoup moins rapide que KD-Tree.\n",
    "\n",
    "#### Nous pouvons donc dire que le choix de la méthode d'indexation dépend du type de recherche que nous voulons faire. Il faut faire un compromis soit sur la perfomance, soit sur le temps d'exécution.\n",
    "\n",
    "#### Cependant, il serait peut être possible d'améliorer les perfomances obtenues dans notre travail en ajustant certains paramètres :\n",
    "\n",
    "- la métrique de distance à utiliser pour l'arbre KD-Tree\n",
    "- le nombre de cluster pour K-Means\n",
    "- la taille de hachage de LSH"
   ]
  },
  {
   "cell_type": "code",
   "execution_count": null,
   "metadata": {},
   "outputs": [],
   "source": []
  }
 ],
 "metadata": {
  "kernelspec": {
   "display_name": "Python 3",
   "language": "python",
   "name": "python3"
  },
  "language_info": {
   "codemirror_mode": {
    "name": "ipython",
    "version": 3
   },
   "file_extension": ".py",
   "mimetype": "text/x-python",
   "name": "python",
   "nbconvert_exporter": "python",
   "pygments_lexer": "ipython3",
   "version": "3.8.3"
  }
 },
 "nbformat": 4,
 "nbformat_minor": 4
}
