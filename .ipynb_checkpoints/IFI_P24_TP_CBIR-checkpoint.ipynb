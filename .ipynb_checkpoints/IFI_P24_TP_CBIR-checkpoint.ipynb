{
 "cells": [
  {
   "cell_type": "code",
   "execution_count": 1,
   "metadata": {},
   "outputs": [],
   "source": [
    "import cv2 as cv\n",
    "import numpy as np\n",
    "import matplotlib.pyplot as plt\n",
    "import os\n",
    "from scipy.spatial import distance\n",
    "from IPython.display import Markdown, display\n",
    "import pandas as pd"
   ]
  },
  {
   "cell_type": "code",
   "execution_count": 2,
   "metadata": {},
   "outputs": [],
   "source": [
    "# Lecture des images stockés sur le disque dur, calculer leurs histogrammes et leurs moment de Hu\n",
    "\n",
    "liste_histogrammes = []\n",
    "liste_hu_moment = []\n",
    "label_images = []\n",
    "\n",
    "for img in [f for f in os.listdir('coil-100/')]:\n",
    "    if img.split('.')[1] == 'png':\n",
    "        image = cv.imread(os.path.join('coil-100/', img))\n",
    "\n",
    "        # division des parties de l'image\n",
    "        BGR_layers = cv.split(image)\n",
    "\n",
    "        # Histogrammes\n",
    "        B_hist = cv.calcHist(BGR_layers, [0], None, [32], (0, 256), accumulate=False)\n",
    "        G_hist = cv.calcHist(BGR_layers, [1], None, [32], (0, 256), accumulate=False)\n",
    "        R_hist = cv.calcHist(BGR_layers, [2], None, [32], (0, 256), accumulate=False)\n",
    "        histogramme = np.concatenate((B_hist, G_hist, R_hist), axis=None)\n",
    "        liste_histogrammes.append(histogramme)\n",
    "\n",
    "        # Moments de Hu\n",
    "        image = cv.cvtColor(image, cv.COLOR_BGR2GRAY)\n",
    "        hu_moment = cv.HuMoments(cv.moments(image))\n",
    "        hu_moment = hu_moment.flatten()\n",
    "        liste_hu_moment.append(hu_moment)\n",
    "\n",
    "        # Le nom de l'image\n",
    "        label_images.append(img)"
   ]
  },
  {
   "cell_type": "code",
   "execution_count": 3,
   "metadata": {},
   "outputs": [],
   "source": [
    "# Sauvegarde des caractéristiques\n",
    "np.save('liste_histogrammes.npy', np.array(liste_histogrammes))\n",
    "np.save('liste_hu_moment.npy', np.array(liste_hu_moment))\n",
    "np.save('label_images.npy', np.array(label_images))"
   ]
  },
  {
   "cell_type": "markdown",
   "metadata": {},
   "source": [
    "\n",
    "# Test du système"
   ]
  },
  {
   "cell_type": "code",
   "execution_count": 4,
   "metadata": {},
   "outputs": [],
   "source": [
    "# Lecture des caractéristiques\n",
    "liste_histogrammes = np.load('liste_histogrammes.npy')\n",
    "liste_hu_moment = np.load('liste_hu_moment.npy')\n",
    "label_images = np.load('label_images.npy')"
   ]
  },
  {
   "cell_type": "code",
   "execution_count": 5,
   "metadata": {},
   "outputs": [],
   "source": [
    "w1 = 0.5\n",
    "w2 = 0.5"
   ]
  },
  {
   "cell_type": "code",
   "execution_count": 7,
   "metadata": {},
   "outputs": [
    {
     "name": "stdout",
     "output_type": "stream",
     "text": [
      "Exemple : obj10__0.png\n",
      "\n",
      "Résultats de la recherche (K=10) :\n",
      "Image \t Distance\n",
      " obj10__0.png \t \t 0.0\n",
      " obj10__10.png \t \t 150.7809753887932\n",
      " obj10__355.png \t \t 197.39164896787224\n",
      " obj10__5.png \t \t 292.63218461156276\n",
      " obj10__340.png \t \t 514.81820159104\n",
      " obj10__15.png \t \t 532.7717179098662\n",
      " obj10__350.png \t \t 691.1139866667469\n",
      " obj10__345.png \t \t 854.5229048929541\n",
      " obj10__330.png \t \t 1065.486560577149\n",
      " obj10__25.png \t \t 1120.4157383182164\n"
     ]
    }
   ],
   "source": [
    "image_entree = \"obj10__0.png\"\n",
    "\n",
    "image = cv.imread(\"coil-100/\"+image_entree)\n",
    "\n",
    "BGR_layers = cv.split(image)\n",
    "\n",
    "# Calcul de l'histogramme couleur\n",
    "B_hist = cv.calcHist(BGR_layers, [0], None, [32], (0, 256), accumulate=False)\n",
    "G_hist = cv.calcHist(BGR_layers, [1], None, [32], (0, 256), accumulate=False)\n",
    "R_hist = cv.calcHist(BGR_layers, [2], None, [32], (0, 256), accumulate=False)\n",
    "histogramme = np.concatenate((B_hist, G_hist, R_hist), axis=None)\n",
    "            \n",
    "# Moments de Hu\n",
    "image = cv.cvtColor(image, cv.COLOR_BGR2GRAY)\n",
    "hu_moment = cv.HuMoments(cv.moments(image))\n",
    "hu_moment = hu_moment.flatten()\n",
    "\n",
    "# Tableau contenant les distances\n",
    "liste_distances = []\n",
    "\n",
    "# Calcul des distances\n",
    "for i in range(len(liste_histogrammes)):\n",
    "    distance_couleur = cv.compareHist(histogramme, liste_histogrammes[i], 1)\n",
    "    distance_forme = distance.euclidean(hu_moment, liste_hu_moment[i])\n",
    "    distance_totale = distance_couleur * w1 + distance_forme * w2\n",
    "    dist = [i, distance_totale]\n",
    "    liste_distances.append(dist)\n",
    "        \n",
    "# Trie du tableau par ordre croissant\n",
    "liste_distances = sorted(liste_distances, key=lambda x: x[1])\n",
    "\n",
    "print(\"Exemple : {}\".format(image_entree))\n",
    "print()\n",
    "\n",
    "print(\"Résultats de la recherche (K=10) :\")\n",
    "print(\"Image \\t Distance\".format(image_entree))\n",
    "\n",
    "for i in liste_distances[0:10]:\n",
    "      print(\" {} \\t \\t {}\".format(label_images[i[0]], i[1]))"
   ]
  },
  {
   "cell_type": "code",
   "execution_count": null,
   "metadata": {},
   "outputs": [],
   "source": []
  }
 ],
 "metadata": {
  "kernelspec": {
   "display_name": "Python 3",
   "language": "python",
   "name": "python3"
  },
  "language_info": {
   "codemirror_mode": {
    "name": "ipython",
    "version": 3
   },
   "file_extension": ".py",
   "mimetype": "text/x-python",
   "name": "python",
   "nbconvert_exporter": "python",
   "pygments_lexer": "ipython3",
   "version": "3.8.3"
  }
 },
 "nbformat": 4,
 "nbformat_minor": 4
}
